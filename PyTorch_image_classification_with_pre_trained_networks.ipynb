{
  "nbformat": 4,
  "nbformat_minor": 0,
  "metadata": {
    "colab": {
      "name": "PyTorch image classification with pre-trained networks",
      "provenance": [],
      "collapsed_sections": [],
      "authorship_tag": "ABX9TyMPQv0IHIQfCSvulUulbc9p"
    },
    "kernelspec": {
      "name": "python3",
      "display_name": "Python 3"
    },
    "language_info": {
      "name": "python"
    },
    "accelerator": "GPU",
    "widgets": {
      "application/vnd.jupyter.widget-state+json": {
        "6b801faad18d467aaaf469c6677b6d73": {
          "model_module": "@jupyter-widgets/controls",
          "model_name": "HBoxModel",
          "state": {
            "_view_name": "HBoxView",
            "_dom_classes": [],
            "_model_name": "HBoxModel",
            "_view_module": "@jupyter-widgets/controls",
            "_model_module_version": "1.5.0",
            "_view_count": null,
            "_view_module_version": "1.5.0",
            "box_style": "",
            "layout": "IPY_MODEL_b754eb3ec79343fd84915c7751150caf",
            "_model_module": "@jupyter-widgets/controls",
            "children": [
              "IPY_MODEL_56fb1cfd51334d2292b73ef7f5b195a3",
              "IPY_MODEL_9879ec9c52f242df9698456eee999e3d"
            ]
          }
        },
        "b754eb3ec79343fd84915c7751150caf": {
          "model_module": "@jupyter-widgets/base",
          "model_name": "LayoutModel",
          "state": {
            "_view_name": "LayoutView",
            "grid_template_rows": null,
            "right": null,
            "justify_content": null,
            "_view_module": "@jupyter-widgets/base",
            "overflow": null,
            "_model_module_version": "1.2.0",
            "_view_count": null,
            "flex_flow": null,
            "width": null,
            "min_width": null,
            "border": null,
            "align_items": null,
            "bottom": null,
            "_model_module": "@jupyter-widgets/base",
            "top": null,
            "grid_column": null,
            "overflow_y": null,
            "overflow_x": null,
            "grid_auto_flow": null,
            "grid_area": null,
            "grid_template_columns": null,
            "flex": null,
            "_model_name": "LayoutModel",
            "justify_items": null,
            "grid_row": null,
            "max_height": null,
            "align_content": null,
            "visibility": null,
            "align_self": null,
            "height": null,
            "min_height": null,
            "padding": null,
            "grid_auto_rows": null,
            "grid_gap": null,
            "max_width": null,
            "order": null,
            "_view_module_version": "1.2.0",
            "grid_template_areas": null,
            "object_position": null,
            "object_fit": null,
            "grid_auto_columns": null,
            "margin": null,
            "display": null,
            "left": null
          }
        },
        "56fb1cfd51334d2292b73ef7f5b195a3": {
          "model_module": "@jupyter-widgets/controls",
          "model_name": "FloatProgressModel",
          "state": {
            "_view_name": "ProgressView",
            "style": "IPY_MODEL_14cd696204934f5084f07a3ada3fef83",
            "_dom_classes": [],
            "description": "100%",
            "_model_name": "FloatProgressModel",
            "bar_style": "success",
            "max": 553433881,
            "_view_module": "@jupyter-widgets/controls",
            "_model_module_version": "1.5.0",
            "value": 553433881,
            "_view_count": null,
            "_view_module_version": "1.5.0",
            "orientation": "horizontal",
            "min": 0,
            "description_tooltip": null,
            "_model_module": "@jupyter-widgets/controls",
            "layout": "IPY_MODEL_943fcde4a76342a3afc4068e7aaeb360"
          }
        },
        "9879ec9c52f242df9698456eee999e3d": {
          "model_module": "@jupyter-widgets/controls",
          "model_name": "HTMLModel",
          "state": {
            "_view_name": "HTMLView",
            "style": "IPY_MODEL_750d6eabc7ad45c9b1b3b72657a4a874",
            "_dom_classes": [],
            "description": "",
            "_model_name": "HTMLModel",
            "placeholder": "​",
            "_view_module": "@jupyter-widgets/controls",
            "_model_module_version": "1.5.0",
            "value": " 528M/528M [00:12&lt;00:00, 43.7MB/s]",
            "_view_count": null,
            "_view_module_version": "1.5.0",
            "description_tooltip": null,
            "_model_module": "@jupyter-widgets/controls",
            "layout": "IPY_MODEL_3291539a5b9449cd9235cb36354f5c72"
          }
        },
        "14cd696204934f5084f07a3ada3fef83": {
          "model_module": "@jupyter-widgets/controls",
          "model_name": "ProgressStyleModel",
          "state": {
            "_view_name": "StyleView",
            "_model_name": "ProgressStyleModel",
            "description_width": "initial",
            "_view_module": "@jupyter-widgets/base",
            "_model_module_version": "1.5.0",
            "_view_count": null,
            "_view_module_version": "1.2.0",
            "bar_color": null,
            "_model_module": "@jupyter-widgets/controls"
          }
        },
        "943fcde4a76342a3afc4068e7aaeb360": {
          "model_module": "@jupyter-widgets/base",
          "model_name": "LayoutModel",
          "state": {
            "_view_name": "LayoutView",
            "grid_template_rows": null,
            "right": null,
            "justify_content": null,
            "_view_module": "@jupyter-widgets/base",
            "overflow": null,
            "_model_module_version": "1.2.0",
            "_view_count": null,
            "flex_flow": null,
            "width": null,
            "min_width": null,
            "border": null,
            "align_items": null,
            "bottom": null,
            "_model_module": "@jupyter-widgets/base",
            "top": null,
            "grid_column": null,
            "overflow_y": null,
            "overflow_x": null,
            "grid_auto_flow": null,
            "grid_area": null,
            "grid_template_columns": null,
            "flex": null,
            "_model_name": "LayoutModel",
            "justify_items": null,
            "grid_row": null,
            "max_height": null,
            "align_content": null,
            "visibility": null,
            "align_self": null,
            "height": null,
            "min_height": null,
            "padding": null,
            "grid_auto_rows": null,
            "grid_gap": null,
            "max_width": null,
            "order": null,
            "_view_module_version": "1.2.0",
            "grid_template_areas": null,
            "object_position": null,
            "object_fit": null,
            "grid_auto_columns": null,
            "margin": null,
            "display": null,
            "left": null
          }
        },
        "750d6eabc7ad45c9b1b3b72657a4a874": {
          "model_module": "@jupyter-widgets/controls",
          "model_name": "DescriptionStyleModel",
          "state": {
            "_view_name": "StyleView",
            "_model_name": "DescriptionStyleModel",
            "description_width": "",
            "_view_module": "@jupyter-widgets/base",
            "_model_module_version": "1.5.0",
            "_view_count": null,
            "_view_module_version": "1.2.0",
            "_model_module": "@jupyter-widgets/controls"
          }
        },
        "3291539a5b9449cd9235cb36354f5c72": {
          "model_module": "@jupyter-widgets/base",
          "model_name": "LayoutModel",
          "state": {
            "_view_name": "LayoutView",
            "grid_template_rows": null,
            "right": null,
            "justify_content": null,
            "_view_module": "@jupyter-widgets/base",
            "overflow": null,
            "_model_module_version": "1.2.0",
            "_view_count": null,
            "flex_flow": null,
            "width": null,
            "min_width": null,
            "border": null,
            "align_items": null,
            "bottom": null,
            "_model_module": "@jupyter-widgets/base",
            "top": null,
            "grid_column": null,
            "overflow_y": null,
            "overflow_x": null,
            "grid_auto_flow": null,
            "grid_area": null,
            "grid_template_columns": null,
            "flex": null,
            "_model_name": "LayoutModel",
            "justify_items": null,
            "grid_row": null,
            "max_height": null,
            "align_content": null,
            "visibility": null,
            "align_self": null,
            "height": null,
            "min_height": null,
            "padding": null,
            "grid_auto_rows": null,
            "grid_gap": null,
            "max_width": null,
            "order": null,
            "_view_module_version": "1.2.0",
            "grid_template_areas": null,
            "object_position": null,
            "object_fit": null,
            "grid_auto_columns": null,
            "margin": null,
            "display": null,
            "left": null
          }
        },
        "6119822cd46349cd9253239934e5b4aa": {
          "model_module": "@jupyter-widgets/controls",
          "model_name": "HBoxModel",
          "state": {
            "_view_name": "HBoxView",
            "_dom_classes": [],
            "_model_name": "HBoxModel",
            "_view_module": "@jupyter-widgets/controls",
            "_model_module_version": "1.5.0",
            "_view_count": null,
            "_view_module_version": "1.5.0",
            "box_style": "",
            "layout": "IPY_MODEL_622b6235d579484a89e9e04b6fd60185",
            "_model_module": "@jupyter-widgets/controls",
            "children": [
              "IPY_MODEL_1245f22f5e314077a708728fca3fc385",
              "IPY_MODEL_80a9b8b0106b4f5893c8387d16a784a2"
            ]
          }
        },
        "622b6235d579484a89e9e04b6fd60185": {
          "model_module": "@jupyter-widgets/base",
          "model_name": "LayoutModel",
          "state": {
            "_view_name": "LayoutView",
            "grid_template_rows": null,
            "right": null,
            "justify_content": null,
            "_view_module": "@jupyter-widgets/base",
            "overflow": null,
            "_model_module_version": "1.2.0",
            "_view_count": null,
            "flex_flow": null,
            "width": null,
            "min_width": null,
            "border": null,
            "align_items": null,
            "bottom": null,
            "_model_module": "@jupyter-widgets/base",
            "top": null,
            "grid_column": null,
            "overflow_y": null,
            "overflow_x": null,
            "grid_auto_flow": null,
            "grid_area": null,
            "grid_template_columns": null,
            "flex": null,
            "_model_name": "LayoutModel",
            "justify_items": null,
            "grid_row": null,
            "max_height": null,
            "align_content": null,
            "visibility": null,
            "align_self": null,
            "height": null,
            "min_height": null,
            "padding": null,
            "grid_auto_rows": null,
            "grid_gap": null,
            "max_width": null,
            "order": null,
            "_view_module_version": "1.2.0",
            "grid_template_areas": null,
            "object_position": null,
            "object_fit": null,
            "grid_auto_columns": null,
            "margin": null,
            "display": null,
            "left": null
          }
        },
        "1245f22f5e314077a708728fca3fc385": {
          "model_module": "@jupyter-widgets/controls",
          "model_name": "FloatProgressModel",
          "state": {
            "_view_name": "ProgressView",
            "style": "IPY_MODEL_7d6a1069c712428c81d7db51054400ab",
            "_dom_classes": [],
            "description": "100%",
            "_model_name": "FloatProgressModel",
            "bar_style": "success",
            "max": 574673361,
            "_view_module": "@jupyter-widgets/controls",
            "_model_module_version": "1.5.0",
            "value": 574673361,
            "_view_count": null,
            "_view_module_version": "1.5.0",
            "orientation": "horizontal",
            "min": 0,
            "description_tooltip": null,
            "_model_module": "@jupyter-widgets/controls",
            "layout": "IPY_MODEL_fa83506b392e4fbbb5c72bbe9f328e9a"
          }
        },
        "80a9b8b0106b4f5893c8387d16a784a2": {
          "model_module": "@jupyter-widgets/controls",
          "model_name": "HTMLModel",
          "state": {
            "_view_name": "HTMLView",
            "style": "IPY_MODEL_2b621cbda235407a9c2a276f1f03bd78",
            "_dom_classes": [],
            "description": "",
            "_model_name": "HTMLModel",
            "placeholder": "​",
            "_view_module": "@jupyter-widgets/controls",
            "_model_module_version": "1.5.0",
            "value": " 548M/548M [00:08&lt;00:00, 71.0MB/s]",
            "_view_count": null,
            "_view_module_version": "1.5.0",
            "description_tooltip": null,
            "_model_module": "@jupyter-widgets/controls",
            "layout": "IPY_MODEL_92271a3a31464c3aae67a06b4cdabe59"
          }
        },
        "7d6a1069c712428c81d7db51054400ab": {
          "model_module": "@jupyter-widgets/controls",
          "model_name": "ProgressStyleModel",
          "state": {
            "_view_name": "StyleView",
            "_model_name": "ProgressStyleModel",
            "description_width": "initial",
            "_view_module": "@jupyter-widgets/base",
            "_model_module_version": "1.5.0",
            "_view_count": null,
            "_view_module_version": "1.2.0",
            "bar_color": null,
            "_model_module": "@jupyter-widgets/controls"
          }
        },
        "fa83506b392e4fbbb5c72bbe9f328e9a": {
          "model_module": "@jupyter-widgets/base",
          "model_name": "LayoutModel",
          "state": {
            "_view_name": "LayoutView",
            "grid_template_rows": null,
            "right": null,
            "justify_content": null,
            "_view_module": "@jupyter-widgets/base",
            "overflow": null,
            "_model_module_version": "1.2.0",
            "_view_count": null,
            "flex_flow": null,
            "width": null,
            "min_width": null,
            "border": null,
            "align_items": null,
            "bottom": null,
            "_model_module": "@jupyter-widgets/base",
            "top": null,
            "grid_column": null,
            "overflow_y": null,
            "overflow_x": null,
            "grid_auto_flow": null,
            "grid_area": null,
            "grid_template_columns": null,
            "flex": null,
            "_model_name": "LayoutModel",
            "justify_items": null,
            "grid_row": null,
            "max_height": null,
            "align_content": null,
            "visibility": null,
            "align_self": null,
            "height": null,
            "min_height": null,
            "padding": null,
            "grid_auto_rows": null,
            "grid_gap": null,
            "max_width": null,
            "order": null,
            "_view_module_version": "1.2.0",
            "grid_template_areas": null,
            "object_position": null,
            "object_fit": null,
            "grid_auto_columns": null,
            "margin": null,
            "display": null,
            "left": null
          }
        },
        "2b621cbda235407a9c2a276f1f03bd78": {
          "model_module": "@jupyter-widgets/controls",
          "model_name": "DescriptionStyleModel",
          "state": {
            "_view_name": "StyleView",
            "_model_name": "DescriptionStyleModel",
            "description_width": "",
            "_view_module": "@jupyter-widgets/base",
            "_model_module_version": "1.5.0",
            "_view_count": null,
            "_view_module_version": "1.2.0",
            "_model_module": "@jupyter-widgets/controls"
          }
        },
        "92271a3a31464c3aae67a06b4cdabe59": {
          "model_module": "@jupyter-widgets/base",
          "model_name": "LayoutModel",
          "state": {
            "_view_name": "LayoutView",
            "grid_template_rows": null,
            "right": null,
            "justify_content": null,
            "_view_module": "@jupyter-widgets/base",
            "overflow": null,
            "_model_module_version": "1.2.0",
            "_view_count": null,
            "flex_flow": null,
            "width": null,
            "min_width": null,
            "border": null,
            "align_items": null,
            "bottom": null,
            "_model_module": "@jupyter-widgets/base",
            "top": null,
            "grid_column": null,
            "overflow_y": null,
            "overflow_x": null,
            "grid_auto_flow": null,
            "grid_area": null,
            "grid_template_columns": null,
            "flex": null,
            "_model_name": "LayoutModel",
            "justify_items": null,
            "grid_row": null,
            "max_height": null,
            "align_content": null,
            "visibility": null,
            "align_self": null,
            "height": null,
            "min_height": null,
            "padding": null,
            "grid_auto_rows": null,
            "grid_gap": null,
            "max_width": null,
            "order": null,
            "_view_module_version": "1.2.0",
            "grid_template_areas": null,
            "object_position": null,
            "object_fit": null,
            "grid_auto_columns": null,
            "margin": null,
            "display": null,
            "left": null
          }
        },
        "fac41cfd358643b395fe99f30cb305bd": {
          "model_module": "@jupyter-widgets/controls",
          "model_name": "HBoxModel",
          "state": {
            "_view_name": "HBoxView",
            "_dom_classes": [],
            "_model_name": "HBoxModel",
            "_view_module": "@jupyter-widgets/controls",
            "_model_module_version": "1.5.0",
            "_view_count": null,
            "_view_module_version": "1.5.0",
            "box_style": "",
            "layout": "IPY_MODEL_61e2350548844e479926468966380005",
            "_model_module": "@jupyter-widgets/controls",
            "children": [
              "IPY_MODEL_c138b92a456f4707b34ab3e0304af0b4",
              "IPY_MODEL_663f70e67f9b46b48e31b24dcb2d02c5"
            ]
          }
        },
        "61e2350548844e479926468966380005": {
          "model_module": "@jupyter-widgets/base",
          "model_name": "LayoutModel",
          "state": {
            "_view_name": "LayoutView",
            "grid_template_rows": null,
            "right": null,
            "justify_content": null,
            "_view_module": "@jupyter-widgets/base",
            "overflow": null,
            "_model_module_version": "1.2.0",
            "_view_count": null,
            "flex_flow": null,
            "width": null,
            "min_width": null,
            "border": null,
            "align_items": null,
            "bottom": null,
            "_model_module": "@jupyter-widgets/base",
            "top": null,
            "grid_column": null,
            "overflow_y": null,
            "overflow_x": null,
            "grid_auto_flow": null,
            "grid_area": null,
            "grid_template_columns": null,
            "flex": null,
            "_model_name": "LayoutModel",
            "justify_items": null,
            "grid_row": null,
            "max_height": null,
            "align_content": null,
            "visibility": null,
            "align_self": null,
            "height": null,
            "min_height": null,
            "padding": null,
            "grid_auto_rows": null,
            "grid_gap": null,
            "max_width": null,
            "order": null,
            "_view_module_version": "1.2.0",
            "grid_template_areas": null,
            "object_position": null,
            "object_fit": null,
            "grid_auto_columns": null,
            "margin": null,
            "display": null,
            "left": null
          }
        },
        "c138b92a456f4707b34ab3e0304af0b4": {
          "model_module": "@jupyter-widgets/controls",
          "model_name": "FloatProgressModel",
          "state": {
            "_view_name": "ProgressView",
            "style": "IPY_MODEL_3232018c236c4b919e24d55aa5e603e6",
            "_dom_classes": [],
            "description": "100%",
            "_model_name": "FloatProgressModel",
            "bar_style": "success",
            "max": 108949747,
            "_view_module": "@jupyter-widgets/controls",
            "_model_module_version": "1.5.0",
            "value": 108949747,
            "_view_count": null,
            "_view_module_version": "1.5.0",
            "orientation": "horizontal",
            "min": 0,
            "description_tooltip": null,
            "_model_module": "@jupyter-widgets/controls",
            "layout": "IPY_MODEL_b5ff89026bd14e37924fcbb1814ee980"
          }
        },
        "663f70e67f9b46b48e31b24dcb2d02c5": {
          "model_module": "@jupyter-widgets/controls",
          "model_name": "HTMLModel",
          "state": {
            "_view_name": "HTMLView",
            "style": "IPY_MODEL_0033a5df1bd741bd832287787e89a785",
            "_dom_classes": [],
            "description": "",
            "_model_name": "HTMLModel",
            "placeholder": "​",
            "_view_module": "@jupyter-widgets/controls",
            "_model_module_version": "1.5.0",
            "value": " 104M/104M [00:01&lt;00:00, 71.9MB/s]",
            "_view_count": null,
            "_view_module_version": "1.5.0",
            "description_tooltip": null,
            "_model_module": "@jupyter-widgets/controls",
            "layout": "IPY_MODEL_30ab135efa5749688f1c9ed5a782a6b3"
          }
        },
        "3232018c236c4b919e24d55aa5e603e6": {
          "model_module": "@jupyter-widgets/controls",
          "model_name": "ProgressStyleModel",
          "state": {
            "_view_name": "StyleView",
            "_model_name": "ProgressStyleModel",
            "description_width": "initial",
            "_view_module": "@jupyter-widgets/base",
            "_model_module_version": "1.5.0",
            "_view_count": null,
            "_view_module_version": "1.2.0",
            "bar_color": null,
            "_model_module": "@jupyter-widgets/controls"
          }
        },
        "b5ff89026bd14e37924fcbb1814ee980": {
          "model_module": "@jupyter-widgets/base",
          "model_name": "LayoutModel",
          "state": {
            "_view_name": "LayoutView",
            "grid_template_rows": null,
            "right": null,
            "justify_content": null,
            "_view_module": "@jupyter-widgets/base",
            "overflow": null,
            "_model_module_version": "1.2.0",
            "_view_count": null,
            "flex_flow": null,
            "width": null,
            "min_width": null,
            "border": null,
            "align_items": null,
            "bottom": null,
            "_model_module": "@jupyter-widgets/base",
            "top": null,
            "grid_column": null,
            "overflow_y": null,
            "overflow_x": null,
            "grid_auto_flow": null,
            "grid_area": null,
            "grid_template_columns": null,
            "flex": null,
            "_model_name": "LayoutModel",
            "justify_items": null,
            "grid_row": null,
            "max_height": null,
            "align_content": null,
            "visibility": null,
            "align_self": null,
            "height": null,
            "min_height": null,
            "padding": null,
            "grid_auto_rows": null,
            "grid_gap": null,
            "max_width": null,
            "order": null,
            "_view_module_version": "1.2.0",
            "grid_template_areas": null,
            "object_position": null,
            "object_fit": null,
            "grid_auto_columns": null,
            "margin": null,
            "display": null,
            "left": null
          }
        },
        "0033a5df1bd741bd832287787e89a785": {
          "model_module": "@jupyter-widgets/controls",
          "model_name": "DescriptionStyleModel",
          "state": {
            "_view_name": "StyleView",
            "_model_name": "DescriptionStyleModel",
            "description_width": "",
            "_view_module": "@jupyter-widgets/base",
            "_model_module_version": "1.5.0",
            "_view_count": null,
            "_view_module_version": "1.2.0",
            "_model_module": "@jupyter-widgets/controls"
          }
        },
        "30ab135efa5749688f1c9ed5a782a6b3": {
          "model_module": "@jupyter-widgets/base",
          "model_name": "LayoutModel",
          "state": {
            "_view_name": "LayoutView",
            "grid_template_rows": null,
            "right": null,
            "justify_content": null,
            "_view_module": "@jupyter-widgets/base",
            "overflow": null,
            "_model_module_version": "1.2.0",
            "_view_count": null,
            "flex_flow": null,
            "width": null,
            "min_width": null,
            "border": null,
            "align_items": null,
            "bottom": null,
            "_model_module": "@jupyter-widgets/base",
            "top": null,
            "grid_column": null,
            "overflow_y": null,
            "overflow_x": null,
            "grid_auto_flow": null,
            "grid_area": null,
            "grid_template_columns": null,
            "flex": null,
            "_model_name": "LayoutModel",
            "justify_items": null,
            "grid_row": null,
            "max_height": null,
            "align_content": null,
            "visibility": null,
            "align_self": null,
            "height": null,
            "min_height": null,
            "padding": null,
            "grid_auto_rows": null,
            "grid_gap": null,
            "max_width": null,
            "order": null,
            "_view_module_version": "1.2.0",
            "grid_template_areas": null,
            "object_position": null,
            "object_fit": null,
            "grid_auto_columns": null,
            "margin": null,
            "display": null,
            "left": null
          }
        },
        "3e12937663744bd2abe36f1c648ad411": {
          "model_module": "@jupyter-widgets/controls",
          "model_name": "HBoxModel",
          "state": {
            "_view_name": "HBoxView",
            "_dom_classes": [],
            "_model_name": "HBoxModel",
            "_view_module": "@jupyter-widgets/controls",
            "_model_module_version": "1.5.0",
            "_view_count": null,
            "_view_module_version": "1.5.0",
            "box_style": "",
            "layout": "IPY_MODEL_ba4a9d6f74384d3ba7eaa45dc2ba5013",
            "_model_module": "@jupyter-widgets/controls",
            "children": [
              "IPY_MODEL_1a0d98f7411c4f419e46e6dd16ea6c9c",
              "IPY_MODEL_7a73e991ceab441b847667f1dc4c7783"
            ]
          }
        },
        "ba4a9d6f74384d3ba7eaa45dc2ba5013": {
          "model_module": "@jupyter-widgets/base",
          "model_name": "LayoutModel",
          "state": {
            "_view_name": "LayoutView",
            "grid_template_rows": null,
            "right": null,
            "justify_content": null,
            "_view_module": "@jupyter-widgets/base",
            "overflow": null,
            "_model_module_version": "1.2.0",
            "_view_count": null,
            "flex_flow": null,
            "width": null,
            "min_width": null,
            "border": null,
            "align_items": null,
            "bottom": null,
            "_model_module": "@jupyter-widgets/base",
            "top": null,
            "grid_column": null,
            "overflow_y": null,
            "overflow_x": null,
            "grid_auto_flow": null,
            "grid_area": null,
            "grid_template_columns": null,
            "flex": null,
            "_model_name": "LayoutModel",
            "justify_items": null,
            "grid_row": null,
            "max_height": null,
            "align_content": null,
            "visibility": null,
            "align_self": null,
            "height": null,
            "min_height": null,
            "padding": null,
            "grid_auto_rows": null,
            "grid_gap": null,
            "max_width": null,
            "order": null,
            "_view_module_version": "1.2.0",
            "grid_template_areas": null,
            "object_position": null,
            "object_fit": null,
            "grid_auto_columns": null,
            "margin": null,
            "display": null,
            "left": null
          }
        },
        "1a0d98f7411c4f419e46e6dd16ea6c9c": {
          "model_module": "@jupyter-widgets/controls",
          "model_name": "FloatProgressModel",
          "state": {
            "_view_name": "ProgressView",
            "style": "IPY_MODEL_5020136cfec74aa8b0296f57aa719edb",
            "_dom_classes": [],
            "description": "100%",
            "_model_name": "FloatProgressModel",
            "bar_style": "success",
            "max": 32342954,
            "_view_module": "@jupyter-widgets/controls",
            "_model_module_version": "1.5.0",
            "value": 32342954,
            "_view_count": null,
            "_view_module_version": "1.5.0",
            "orientation": "horizontal",
            "min": 0,
            "description_tooltip": null,
            "_model_module": "@jupyter-widgets/controls",
            "layout": "IPY_MODEL_1d619f2f13e24918b68898d73b573b56"
          }
        },
        "7a73e991ceab441b847667f1dc4c7783": {
          "model_module": "@jupyter-widgets/controls",
          "model_name": "HTMLModel",
          "state": {
            "_view_name": "HTMLView",
            "style": "IPY_MODEL_9ab06a3ae46d47a598754b72948a25c3",
            "_dom_classes": [],
            "description": "",
            "_model_name": "HTMLModel",
            "placeholder": "​",
            "_view_module": "@jupyter-widgets/controls",
            "_model_module_version": "1.5.0",
            "value": " 30.8M/30.8M [00:01&lt;00:00, 20.1MB/s]",
            "_view_count": null,
            "_view_module_version": "1.5.0",
            "description_tooltip": null,
            "_model_module": "@jupyter-widgets/controls",
            "layout": "IPY_MODEL_afa27ed1469f4e73906fff857f4d7ef9"
          }
        },
        "5020136cfec74aa8b0296f57aa719edb": {
          "model_module": "@jupyter-widgets/controls",
          "model_name": "ProgressStyleModel",
          "state": {
            "_view_name": "StyleView",
            "_model_name": "ProgressStyleModel",
            "description_width": "initial",
            "_view_module": "@jupyter-widgets/base",
            "_model_module_version": "1.5.0",
            "_view_count": null,
            "_view_module_version": "1.2.0",
            "bar_color": null,
            "_model_module": "@jupyter-widgets/controls"
          }
        },
        "1d619f2f13e24918b68898d73b573b56": {
          "model_module": "@jupyter-widgets/base",
          "model_name": "LayoutModel",
          "state": {
            "_view_name": "LayoutView",
            "grid_template_rows": null,
            "right": null,
            "justify_content": null,
            "_view_module": "@jupyter-widgets/base",
            "overflow": null,
            "_model_module_version": "1.2.0",
            "_view_count": null,
            "flex_flow": null,
            "width": null,
            "min_width": null,
            "border": null,
            "align_items": null,
            "bottom": null,
            "_model_module": "@jupyter-widgets/base",
            "top": null,
            "grid_column": null,
            "overflow_y": null,
            "overflow_x": null,
            "grid_auto_flow": null,
            "grid_area": null,
            "grid_template_columns": null,
            "flex": null,
            "_model_name": "LayoutModel",
            "justify_items": null,
            "grid_row": null,
            "max_height": null,
            "align_content": null,
            "visibility": null,
            "align_self": null,
            "height": null,
            "min_height": null,
            "padding": null,
            "grid_auto_rows": null,
            "grid_gap": null,
            "max_width": null,
            "order": null,
            "_view_module_version": "1.2.0",
            "grid_template_areas": null,
            "object_position": null,
            "object_fit": null,
            "grid_auto_columns": null,
            "margin": null,
            "display": null,
            "left": null
          }
        },
        "9ab06a3ae46d47a598754b72948a25c3": {
          "model_module": "@jupyter-widgets/controls",
          "model_name": "DescriptionStyleModel",
          "state": {
            "_view_name": "StyleView",
            "_model_name": "DescriptionStyleModel",
            "description_width": "",
            "_view_module": "@jupyter-widgets/base",
            "_model_module_version": "1.5.0",
            "_view_count": null,
            "_view_module_version": "1.2.0",
            "_model_module": "@jupyter-widgets/controls"
          }
        },
        "afa27ed1469f4e73906fff857f4d7ef9": {
          "model_module": "@jupyter-widgets/base",
          "model_name": "LayoutModel",
          "state": {
            "_view_name": "LayoutView",
            "grid_template_rows": null,
            "right": null,
            "justify_content": null,
            "_view_module": "@jupyter-widgets/base",
            "overflow": null,
            "_model_module_version": "1.2.0",
            "_view_count": null,
            "flex_flow": null,
            "width": null,
            "min_width": null,
            "border": null,
            "align_items": null,
            "bottom": null,
            "_model_module": "@jupyter-widgets/base",
            "top": null,
            "grid_column": null,
            "overflow_y": null,
            "overflow_x": null,
            "grid_auto_flow": null,
            "grid_area": null,
            "grid_template_columns": null,
            "flex": null,
            "_model_name": "LayoutModel",
            "justify_items": null,
            "grid_row": null,
            "max_height": null,
            "align_content": null,
            "visibility": null,
            "align_self": null,
            "height": null,
            "min_height": null,
            "padding": null,
            "grid_auto_rows": null,
            "grid_gap": null,
            "max_width": null,
            "order": null,
            "_view_module_version": "1.2.0",
            "grid_template_areas": null,
            "object_position": null,
            "object_fit": null,
            "grid_auto_columns": null,
            "margin": null,
            "display": null,
            "left": null
          }
        },
        "a7ed7404265842549945ddadfa063d83": {
          "model_module": "@jupyter-widgets/controls",
          "model_name": "HBoxModel",
          "state": {
            "_view_name": "HBoxView",
            "_dom_classes": [],
            "_model_name": "HBoxModel",
            "_view_module": "@jupyter-widgets/controls",
            "_model_module_version": "1.5.0",
            "_view_count": null,
            "_view_module_version": "1.5.0",
            "box_style": "",
            "layout": "IPY_MODEL_134eaaa4ebbc46a086763cf63f12afc5",
            "_model_module": "@jupyter-widgets/controls",
            "children": [
              "IPY_MODEL_771e0f0a5de94f2981ac05c5e414ec51",
              "IPY_MODEL_19171c1b8cf44320ba9492a52f17f0f0"
            ]
          }
        },
        "134eaaa4ebbc46a086763cf63f12afc5": {
          "model_module": "@jupyter-widgets/base",
          "model_name": "LayoutModel",
          "state": {
            "_view_name": "LayoutView",
            "grid_template_rows": null,
            "right": null,
            "justify_content": null,
            "_view_module": "@jupyter-widgets/base",
            "overflow": null,
            "_model_module_version": "1.2.0",
            "_view_count": null,
            "flex_flow": null,
            "width": null,
            "min_width": null,
            "border": null,
            "align_items": null,
            "bottom": null,
            "_model_module": "@jupyter-widgets/base",
            "top": null,
            "grid_column": null,
            "overflow_y": null,
            "overflow_x": null,
            "grid_auto_flow": null,
            "grid_area": null,
            "grid_template_columns": null,
            "flex": null,
            "_model_name": "LayoutModel",
            "justify_items": null,
            "grid_row": null,
            "max_height": null,
            "align_content": null,
            "visibility": null,
            "align_self": null,
            "height": null,
            "min_height": null,
            "padding": null,
            "grid_auto_rows": null,
            "grid_gap": null,
            "max_width": null,
            "order": null,
            "_view_module_version": "1.2.0",
            "grid_template_areas": null,
            "object_position": null,
            "object_fit": null,
            "grid_auto_columns": null,
            "margin": null,
            "display": null,
            "left": null
          }
        },
        "771e0f0a5de94f2981ac05c5e414ec51": {
          "model_module": "@jupyter-widgets/controls",
          "model_name": "FloatProgressModel",
          "state": {
            "_view_name": "ProgressView",
            "style": "IPY_MODEL_5a1f1d1b07714a7a8f76131226902314",
            "_dom_classes": [],
            "description": "100%",
            "_model_name": "FloatProgressModel",
            "bar_style": "success",
            "max": 102530333,
            "_view_module": "@jupyter-widgets/controls",
            "_model_module_version": "1.5.0",
            "value": 102530333,
            "_view_count": null,
            "_view_module_version": "1.5.0",
            "orientation": "horizontal",
            "min": 0,
            "description_tooltip": null,
            "_model_module": "@jupyter-widgets/controls",
            "layout": "IPY_MODEL_c04a8c5ffa884d4385fd9ecefdc42599"
          }
        },
        "19171c1b8cf44320ba9492a52f17f0f0": {
          "model_module": "@jupyter-widgets/controls",
          "model_name": "HTMLModel",
          "state": {
            "_view_name": "HTMLView",
            "style": "IPY_MODEL_f519a0c7f0c24cf3b3d7f64e703857c8",
            "_dom_classes": [],
            "description": "",
            "_model_name": "HTMLModel",
            "placeholder": "​",
            "_view_module": "@jupyter-widgets/controls",
            "_model_module_version": "1.5.0",
            "value": " 97.8M/97.8M [00:00&lt;00:00, 151MB/s]",
            "_view_count": null,
            "_view_module_version": "1.5.0",
            "description_tooltip": null,
            "_model_module": "@jupyter-widgets/controls",
            "layout": "IPY_MODEL_17575c694c6e43e4a451df2ee0ed39ea"
          }
        },
        "5a1f1d1b07714a7a8f76131226902314": {
          "model_module": "@jupyter-widgets/controls",
          "model_name": "ProgressStyleModel",
          "state": {
            "_view_name": "StyleView",
            "_model_name": "ProgressStyleModel",
            "description_width": "initial",
            "_view_module": "@jupyter-widgets/base",
            "_model_module_version": "1.5.0",
            "_view_count": null,
            "_view_module_version": "1.2.0",
            "bar_color": null,
            "_model_module": "@jupyter-widgets/controls"
          }
        },
        "c04a8c5ffa884d4385fd9ecefdc42599": {
          "model_module": "@jupyter-widgets/base",
          "model_name": "LayoutModel",
          "state": {
            "_view_name": "LayoutView",
            "grid_template_rows": null,
            "right": null,
            "justify_content": null,
            "_view_module": "@jupyter-widgets/base",
            "overflow": null,
            "_model_module_version": "1.2.0",
            "_view_count": null,
            "flex_flow": null,
            "width": null,
            "min_width": null,
            "border": null,
            "align_items": null,
            "bottom": null,
            "_model_module": "@jupyter-widgets/base",
            "top": null,
            "grid_column": null,
            "overflow_y": null,
            "overflow_x": null,
            "grid_auto_flow": null,
            "grid_area": null,
            "grid_template_columns": null,
            "flex": null,
            "_model_name": "LayoutModel",
            "justify_items": null,
            "grid_row": null,
            "max_height": null,
            "align_content": null,
            "visibility": null,
            "align_self": null,
            "height": null,
            "min_height": null,
            "padding": null,
            "grid_auto_rows": null,
            "grid_gap": null,
            "max_width": null,
            "order": null,
            "_view_module_version": "1.2.0",
            "grid_template_areas": null,
            "object_position": null,
            "object_fit": null,
            "grid_auto_columns": null,
            "margin": null,
            "display": null,
            "left": null
          }
        },
        "f519a0c7f0c24cf3b3d7f64e703857c8": {
          "model_module": "@jupyter-widgets/controls",
          "model_name": "DescriptionStyleModel",
          "state": {
            "_view_name": "StyleView",
            "_model_name": "DescriptionStyleModel",
            "description_width": "",
            "_view_module": "@jupyter-widgets/base",
            "_model_module_version": "1.5.0",
            "_view_count": null,
            "_view_module_version": "1.2.0",
            "_model_module": "@jupyter-widgets/controls"
          }
        },
        "17575c694c6e43e4a451df2ee0ed39ea": {
          "model_module": "@jupyter-widgets/base",
          "model_name": "LayoutModel",
          "state": {
            "_view_name": "LayoutView",
            "grid_template_rows": null,
            "right": null,
            "justify_content": null,
            "_view_module": "@jupyter-widgets/base",
            "overflow": null,
            "_model_module_version": "1.2.0",
            "_view_count": null,
            "flex_flow": null,
            "width": null,
            "min_width": null,
            "border": null,
            "align_items": null,
            "bottom": null,
            "_model_module": "@jupyter-widgets/base",
            "top": null,
            "grid_column": null,
            "overflow_y": null,
            "overflow_x": null,
            "grid_auto_flow": null,
            "grid_area": null,
            "grid_template_columns": null,
            "flex": null,
            "_model_name": "LayoutModel",
            "justify_items": null,
            "grid_row": null,
            "max_height": null,
            "align_content": null,
            "visibility": null,
            "align_self": null,
            "height": null,
            "min_height": null,
            "padding": null,
            "grid_auto_rows": null,
            "grid_gap": null,
            "max_width": null,
            "order": null,
            "_view_module_version": "1.2.0",
            "grid_template_areas": null,
            "object_position": null,
            "object_fit": null,
            "grid_auto_columns": null,
            "margin": null,
            "display": null,
            "left": null
          }
        }
      }
    }
  },
  "cells": [
    {
      "cell_type": "code",
      "metadata": {
        "id": "_fTKHq1apcDa"
      },
      "source": [
        "'''\n",
        "https://www.pyimagesearch.com/2021/07/26/pytorch-image-classification-with-pre-trained-networks/\n",
        "'''"
      ],
      "execution_count": null,
      "outputs": []
    },
    {
      "cell_type": "markdown",
      "metadata": {
        "id": "s-W6wLM_q6Fv"
      },
      "source": [
        "#Config\n",
        "\n",
        "\n",
        "# import the necessary packages\n",
        "import torch\n",
        "\n",
        "# specify image dimension\n",
        "IMAGE_SIZE = 224\n",
        "\n",
        "# specify ImageNet mean and standard deviation\n",
        "MEAN = [0.485, 0.456, 0.406]\n",
        "STD = [0.229, 0.224, 0.225]\n",
        "\n",
        "# determine the device we will be using for inference\n",
        "DEVICE = \"cuda\" if torch.cuda.is_available() else \"cpu\"\n",
        "\n",
        "# specify path to the ImageNet labels\n",
        "IN_LABELS = \"ilsvrc2012_wordnet_lemmas.txt\""
      ]
    },
    {
      "cell_type": "code",
      "metadata": {
        "id": "Pd-1hN26pqpI"
      },
      "source": [
        "import config\n",
        "\n",
        "from torchvision import models\n",
        "import numpy as np\n",
        "import torch\n",
        "import cv2"
      ],
      "execution_count": 1,
      "outputs": []
    },
    {
      "cell_type": "code",
      "metadata": {
        "id": "lUyq2eoppqrZ"
      },
      "source": [
        "def preprocess_image(image):\n",
        "\n",
        "  image = cv2.cvtColor(image,cv2.COLOR_BGR2RGB)\n",
        "  image = cv2.resize(image,(config.IMAGE_SIZE,config.IMAGE_SIZE))\n",
        "  image = image.astype(\"float32\")/255.0\n",
        "\n",
        "  image -=config.MEAN\n",
        "  image /=config.STD\n",
        "  image = np.transpose(image,(2,0,1))\n",
        "  image = np.expand_dims(image,0)\n",
        "\n",
        "  return image"
      ],
      "execution_count": 3,
      "outputs": []
    },
    {
      "cell_type": "code",
      "metadata": {
        "colab": {
          "base_uri": "https://localhost:8080/",
          "height": 371,
          "referenced_widgets": [
            "6b801faad18d467aaaf469c6677b6d73",
            "b754eb3ec79343fd84915c7751150caf",
            "56fb1cfd51334d2292b73ef7f5b195a3",
            "9879ec9c52f242df9698456eee999e3d",
            "14cd696204934f5084f07a3ada3fef83",
            "943fcde4a76342a3afc4068e7aaeb360",
            "750d6eabc7ad45c9b1b3b72657a4a874",
            "3291539a5b9449cd9235cb36354f5c72",
            "6119822cd46349cd9253239934e5b4aa",
            "622b6235d579484a89e9e04b6fd60185",
            "1245f22f5e314077a708728fca3fc385",
            "80a9b8b0106b4f5893c8387d16a784a2",
            "7d6a1069c712428c81d7db51054400ab",
            "fa83506b392e4fbbb5c72bbe9f328e9a",
            "2b621cbda235407a9c2a276f1f03bd78",
            "92271a3a31464c3aae67a06b4cdabe59",
            "fac41cfd358643b395fe99f30cb305bd",
            "61e2350548844e479926468966380005",
            "c138b92a456f4707b34ab3e0304af0b4",
            "663f70e67f9b46b48e31b24dcb2d02c5",
            "3232018c236c4b919e24d55aa5e603e6",
            "b5ff89026bd14e37924fcbb1814ee980",
            "0033a5df1bd741bd832287787e89a785",
            "30ab135efa5749688f1c9ed5a782a6b3",
            "3e12937663744bd2abe36f1c648ad411",
            "ba4a9d6f74384d3ba7eaa45dc2ba5013",
            "1a0d98f7411c4f419e46e6dd16ea6c9c",
            "7a73e991ceab441b847667f1dc4c7783",
            "5020136cfec74aa8b0296f57aa719edb",
            "1d619f2f13e24918b68898d73b573b56",
            "9ab06a3ae46d47a598754b72948a25c3",
            "afa27ed1469f4e73906fff857f4d7ef9",
            "a7ed7404265842549945ddadfa063d83",
            "134eaaa4ebbc46a086763cf63f12afc5",
            "771e0f0a5de94f2981ac05c5e414ec51",
            "19171c1b8cf44320ba9492a52f17f0f0",
            "5a1f1d1b07714a7a8f76131226902314",
            "c04a8c5ffa884d4385fd9ecefdc42599",
            "f519a0c7f0c24cf3b3d7f64e703857c8",
            "17575c694c6e43e4a451df2ee0ed39ea"
          ]
        },
        "id": "UlDrnHfHpqt6",
        "outputId": "2801db19-9ee8-4297-ea17-f4c7256dea86"
      },
      "source": [
        "MODELS = {\n",
        "\t\"vgg16\": models.vgg16(pretrained=True),\n",
        "\t\"vgg19\": models.vgg19(pretrained=True),\n",
        "\t\"inception\": models.inception_v3(pretrained=True),\n",
        "\t\"densenet\": models.densenet121(pretrained=True),\n",
        "\t\"resnet\": models.resnet50(pretrained=True)\n",
        "}"
      ],
      "execution_count": 4,
      "outputs": [
        {
          "output_type": "stream",
          "text": [
            "Downloading: \"https://download.pytorch.org/models/vgg16-397923af.pth\" to /root/.cache/torch/hub/checkpoints/vgg16-397923af.pth\n"
          ],
          "name": "stderr"
        },
        {
          "output_type": "display_data",
          "data": {
            "application/vnd.jupyter.widget-view+json": {
              "model_id": "6b801faad18d467aaaf469c6677b6d73",
              "version_minor": 0,
              "version_major": 2
            },
            "text/plain": [
              "HBox(children=(FloatProgress(value=0.0, max=553433881.0), HTML(value='')))"
            ]
          },
          "metadata": {
            "tags": []
          }
        },
        {
          "output_type": "stream",
          "text": [
            "\n"
          ],
          "name": "stdout"
        },
        {
          "output_type": "stream",
          "text": [
            "Downloading: \"https://download.pytorch.org/models/vgg19-dcbb9e9d.pth\" to /root/.cache/torch/hub/checkpoints/vgg19-dcbb9e9d.pth\n"
          ],
          "name": "stderr"
        },
        {
          "output_type": "display_data",
          "data": {
            "application/vnd.jupyter.widget-view+json": {
              "model_id": "6119822cd46349cd9253239934e5b4aa",
              "version_minor": 0,
              "version_major": 2
            },
            "text/plain": [
              "HBox(children=(FloatProgress(value=0.0, max=574673361.0), HTML(value='')))"
            ]
          },
          "metadata": {
            "tags": []
          }
        },
        {
          "output_type": "stream",
          "text": [
            "\n"
          ],
          "name": "stdout"
        },
        {
          "output_type": "stream",
          "text": [
            "Downloading: \"https://download.pytorch.org/models/inception_v3_google-0cc3c7bd.pth\" to /root/.cache/torch/hub/checkpoints/inception_v3_google-0cc3c7bd.pth\n"
          ],
          "name": "stderr"
        },
        {
          "output_type": "display_data",
          "data": {
            "application/vnd.jupyter.widget-view+json": {
              "model_id": "fac41cfd358643b395fe99f30cb305bd",
              "version_minor": 0,
              "version_major": 2
            },
            "text/plain": [
              "HBox(children=(FloatProgress(value=0.0, max=108949747.0), HTML(value='')))"
            ]
          },
          "metadata": {
            "tags": []
          }
        },
        {
          "output_type": "stream",
          "text": [
            "\n"
          ],
          "name": "stdout"
        },
        {
          "output_type": "stream",
          "text": [
            "Downloading: \"https://download.pytorch.org/models/densenet121-a639ec97.pth\" to /root/.cache/torch/hub/checkpoints/densenet121-a639ec97.pth\n"
          ],
          "name": "stderr"
        },
        {
          "output_type": "display_data",
          "data": {
            "application/vnd.jupyter.widget-view+json": {
              "model_id": "3e12937663744bd2abe36f1c648ad411",
              "version_minor": 0,
              "version_major": 2
            },
            "text/plain": [
              "HBox(children=(FloatProgress(value=0.0, max=32342954.0), HTML(value='')))"
            ]
          },
          "metadata": {
            "tags": []
          }
        },
        {
          "output_type": "stream",
          "text": [
            "\n"
          ],
          "name": "stdout"
        },
        {
          "output_type": "stream",
          "text": [
            "Downloading: \"https://download.pytorch.org/models/resnet50-0676ba61.pth\" to /root/.cache/torch/hub/checkpoints/resnet50-0676ba61.pth\n"
          ],
          "name": "stderr"
        },
        {
          "output_type": "display_data",
          "data": {
            "application/vnd.jupyter.widget-view+json": {
              "model_id": "a7ed7404265842549945ddadfa063d83",
              "version_minor": 0,
              "version_major": 2
            },
            "text/plain": [
              "HBox(children=(FloatProgress(value=0.0, max=102530333.0), HTML(value='')))"
            ]
          },
          "metadata": {
            "tags": []
          }
        },
        {
          "output_type": "stream",
          "text": [
            "\n"
          ],
          "name": "stdout"
        }
      ]
    },
    {
      "cell_type": "code",
      "metadata": {
        "colab": {
          "base_uri": "https://localhost:8080/"
        },
        "id": "_9VrS6n0pqww",
        "outputId": "0757c838-eae3-4dc1-d58d-deb10fbefe8f"
      },
      "source": [
        "model = MODELS['vgg16'].to(config.DEVICE)\n",
        "model.eval()"
      ],
      "execution_count": 5,
      "outputs": [
        {
          "output_type": "execute_result",
          "data": {
            "text/plain": [
              "VGG(\n",
              "  (features): Sequential(\n",
              "    (0): Conv2d(3, 64, kernel_size=(3, 3), stride=(1, 1), padding=(1, 1))\n",
              "    (1): ReLU(inplace=True)\n",
              "    (2): Conv2d(64, 64, kernel_size=(3, 3), stride=(1, 1), padding=(1, 1))\n",
              "    (3): ReLU(inplace=True)\n",
              "    (4): MaxPool2d(kernel_size=2, stride=2, padding=0, dilation=1, ceil_mode=False)\n",
              "    (5): Conv2d(64, 128, kernel_size=(3, 3), stride=(1, 1), padding=(1, 1))\n",
              "    (6): ReLU(inplace=True)\n",
              "    (7): Conv2d(128, 128, kernel_size=(3, 3), stride=(1, 1), padding=(1, 1))\n",
              "    (8): ReLU(inplace=True)\n",
              "    (9): MaxPool2d(kernel_size=2, stride=2, padding=0, dilation=1, ceil_mode=False)\n",
              "    (10): Conv2d(128, 256, kernel_size=(3, 3), stride=(1, 1), padding=(1, 1))\n",
              "    (11): ReLU(inplace=True)\n",
              "    (12): Conv2d(256, 256, kernel_size=(3, 3), stride=(1, 1), padding=(1, 1))\n",
              "    (13): ReLU(inplace=True)\n",
              "    (14): Conv2d(256, 256, kernel_size=(3, 3), stride=(1, 1), padding=(1, 1))\n",
              "    (15): ReLU(inplace=True)\n",
              "    (16): MaxPool2d(kernel_size=2, stride=2, padding=0, dilation=1, ceil_mode=False)\n",
              "    (17): Conv2d(256, 512, kernel_size=(3, 3), stride=(1, 1), padding=(1, 1))\n",
              "    (18): ReLU(inplace=True)\n",
              "    (19): Conv2d(512, 512, kernel_size=(3, 3), stride=(1, 1), padding=(1, 1))\n",
              "    (20): ReLU(inplace=True)\n",
              "    (21): Conv2d(512, 512, kernel_size=(3, 3), stride=(1, 1), padding=(1, 1))\n",
              "    (22): ReLU(inplace=True)\n",
              "    (23): MaxPool2d(kernel_size=2, stride=2, padding=0, dilation=1, ceil_mode=False)\n",
              "    (24): Conv2d(512, 512, kernel_size=(3, 3), stride=(1, 1), padding=(1, 1))\n",
              "    (25): ReLU(inplace=True)\n",
              "    (26): Conv2d(512, 512, kernel_size=(3, 3), stride=(1, 1), padding=(1, 1))\n",
              "    (27): ReLU(inplace=True)\n",
              "    (28): Conv2d(512, 512, kernel_size=(3, 3), stride=(1, 1), padding=(1, 1))\n",
              "    (29): ReLU(inplace=True)\n",
              "    (30): MaxPool2d(kernel_size=2, stride=2, padding=0, dilation=1, ceil_mode=False)\n",
              "  )\n",
              "  (avgpool): AdaptiveAvgPool2d(output_size=(7, 7))\n",
              "  (classifier): Sequential(\n",
              "    (0): Linear(in_features=25088, out_features=4096, bias=True)\n",
              "    (1): ReLU(inplace=True)\n",
              "    (2): Dropout(p=0.5, inplace=False)\n",
              "    (3): Linear(in_features=4096, out_features=4096, bias=True)\n",
              "    (4): ReLU(inplace=True)\n",
              "    (5): Dropout(p=0.5, inplace=False)\n",
              "    (6): Linear(in_features=4096, out_features=1000, bias=True)\n",
              "  )\n",
              ")"
            ]
          },
          "metadata": {
            "tags": []
          },
          "execution_count": 5
        }
      ]
    },
    {
      "cell_type": "code",
      "metadata": {
        "id": "cbx4YYXqpqy0"
      },
      "source": [
        "image = cv2.imread(r'/content/clint_eastwood.jpg')"
      ],
      "execution_count": 6,
      "outputs": []
    },
    {
      "cell_type": "code",
      "metadata": {
        "id": "MULhrILapq1T"
      },
      "source": [
        "orig = image.copy()"
      ],
      "execution_count": 7,
      "outputs": []
    },
    {
      "cell_type": "code",
      "metadata": {
        "id": "VpwpqeKlpq3t"
      },
      "source": [
        "image = preprocess_image(image)"
      ],
      "execution_count": 8,
      "outputs": []
    },
    {
      "cell_type": "code",
      "metadata": {
        "id": "--WQQcw9pq63"
      },
      "source": [
        "image = torch.from_numpy(image)"
      ],
      "execution_count": 9,
      "outputs": []
    },
    {
      "cell_type": "code",
      "metadata": {
        "id": "R_vOfgPspq8u"
      },
      "source": [
        "image = image.to(config.DEVICE)"
      ],
      "execution_count": 10,
      "outputs": []
    },
    {
      "cell_type": "code",
      "metadata": {
        "id": "4VWceWJmpq_F"
      },
      "source": [
        "imagenetLabels = dict(enumerate(open(config.IN_LABELS)))"
      ],
      "execution_count": 11,
      "outputs": []
    },
    {
      "cell_type": "code",
      "metadata": {
        "colab": {
          "base_uri": "https://localhost:8080/"
        },
        "id": "6lvDXXQ5prCM",
        "outputId": "79969724-b916-4e70-b070-0ba05cea4105"
      },
      "source": [
        "logits = model(image)"
      ],
      "execution_count": 12,
      "outputs": [
        {
          "output_type": "stream",
          "text": [
            "/usr/local/lib/python3.7/dist-packages/torch/nn/functional.py:718: UserWarning: Named tensors and all their associated APIs are an experimental feature and subject to change. Please do not use them for anything important until they are released as stable. (Triggered internally at  /pytorch/c10/core/TensorImpl.h:1156.)\n",
            "  return torch.max_pool2d(input, kernel_size, stride, padding, dilation, ceil_mode)\n"
          ],
          "name": "stderr"
        }
      ]
    },
    {
      "cell_type": "code",
      "metadata": {
        "colab": {
          "base_uri": "https://localhost:8080/"
        },
        "id": "rQHvTRB6prG2",
        "outputId": "1649dfee-09d3-4a26-ed6c-185b596ccfe7"
      },
      "source": [
        "print(logits)"
      ],
      "execution_count": 13,
      "outputs": [
        {
          "output_type": "stream",
          "text": [
            "tensor([[-2.2584e-01, -4.2050e+00, -1.2859e+00, -1.2067e-02, -6.0965e-01,\n",
            "         -1.4655e+00, -2.2854e+00, -6.9918e-01, -2.4964e+00, -1.0711e+00,\n",
            "         -1.6856e+00, -2.3734e+00, -1.6932e+00, -1.3170e+00, -7.2578e-01,\n",
            "         -1.7903e+00, -1.6371e+00, -1.8295e+00, -2.4255e-01, -6.6064e-01,\n",
            "         -2.6382e+00, -4.6219e-01, -1.0142e+00, -4.8283e-01, -5.7031e-01,\n",
            "         -2.4156e+00, -4.1472e+00, -2.5105e+00, -1.8973e+00, -4.4093e+00,\n",
            "         -2.2991e+00, -2.4252e+00, -2.2587e+00, -2.6800e+00, -1.4442e+00,\n",
            "         -3.0700e+00, -1.7906e+00, -3.4623e+00, -2.7394e+00, -1.1968e+00,\n",
            "         -3.8186e+00, -3.1042e+00, -2.5293e+00, -3.8533e-01, -2.2745e+00,\n",
            "         -1.4271e+00, -3.5744e+00, -2.7733e+00, -3.6298e+00, -2.4513e+00,\n",
            "         -1.6284e+00,  1.3929e+00, -2.2147e+00, -1.2999e+00, -1.3982e+00,\n",
            "         -3.1944e+00, -1.0543e+00, -2.7183e+00, -3.4956e+00, -2.0987e+00,\n",
            "         -4.6225e-01,  2.5345e-01, -2.3700e-01,  7.6617e-01, -3.1204e+00,\n",
            "         -1.4409e-01, -2.4004e+00,  6.4792e-01, -1.8265e+00, -5.4241e-02,\n",
            "         -4.6035e+00,  5.2686e-01, -1.7780e+00, -1.9931e+00, -2.7142e+00,\n",
            "         -2.3038e+00, -4.8427e-01, -3.4672e+00, -1.5690e+00, -7.0966e-01,\n",
            "         -1.5769e+00, -3.0695e+00, -2.2847e+00, -2.0328e+00, -1.8740e+00,\n",
            "         -1.8948e+00, -3.7357e+00, -9.5924e-01, -1.9274e+00, -9.6748e-01,\n",
            "         -1.3902e+00, -2.1323e+00, -3.1552e+00, -1.8857e+00, -2.2992e+00,\n",
            "         -2.0712e+00, -2.0622e+00, -2.7187e+00, -1.6503e+00, -9.5218e-01,\n",
            "         -2.5648e+00, -1.2998e+00, -5.9715e-01, -5.4796e-01, -7.7190e-01,\n",
            "          1.0694e+00, -2.4381e+00, -3.4264e+00, -5.3748e+00, -1.0735e+00,\n",
            "         -4.3224e+00, -3.9671e+00,  2.3144e+00, -1.0243e+00, -2.5053e+00,\n",
            "         -3.8624e+00, -1.9758e+00, -3.0605e+00, -1.2018e+00, -1.8126e+00,\n",
            "         -4.0783e+00, -8.2706e-01, -8.4751e-01, -6.4400e-01, -1.4720e+00,\n",
            "         -2.0066e+00, -2.0581e+00, -1.7440e+00, -2.3371e+00, -2.9490e+00,\n",
            "         -3.2122e+00, -3.1083e+00, -3.9043e+00, -4.3091e+00, -2.2986e+00,\n",
            "         -3.2429e+00, -3.6341e+00, -2.9979e+00, -1.9429e+00, -3.0740e+00,\n",
            "         -1.9236e+00, -2.8683e+00, -3.2849e+00, -2.8343e+00, -1.6855e+00,\n",
            "         -2.4385e+00, -1.6252e+00, -3.3688e+00, -2.2935e+00, -1.8625e+00,\n",
            "         -1.2154e+00,  4.2317e-01, -3.0931e+00, -2.6329e+00, -2.2892e+00,\n",
            "         -1.7567e+00, -1.3143e+00, -1.1350e+00, -1.8702e+00, -5.9974e-01,\n",
            "         -7.6850e-01, -4.5492e-01, -1.0448e+00,  6.4635e-02,  2.0655e-01,\n",
            "         -6.6602e-01, -1.1515e+00, -2.0848e+00, -1.0002e+00, -2.0975e+00,\n",
            "         -1.7279e+00,  5.3661e-01, -1.5002e+00, -2.0318e+00, -7.8301e-01,\n",
            "         -1.8616e+00, -1.2247e+00, -4.9390e-01,  8.8097e-01, -9.7428e-01,\n",
            "         -1.5353e+00, -8.4525e-01, -1.1872e+00,  2.9582e-01, -1.0164e+00,\n",
            "         -9.7815e-01, -1.2835e+00, -1.4478e+00, -1.8331e+00, -1.9351e+00,\n",
            "         -1.6552e+00, -1.2464e+00, -1.7908e+00, -2.0616e+00, -2.7637e+00,\n",
            "          3.3713e-01, -2.2762e+00, -1.0854e+00, -1.9980e+00, -5.6312e-01,\n",
            "         -1.4357e+00, -2.0039e+00, -1.1380e+00, -1.0459e+00, -1.6889e+00,\n",
            "         -2.0023e-01,  4.2071e-01, -1.2579e+00, -5.7122e-01, -3.9050e-01,\n",
            "          4.3859e-02,  6.3998e-01, -1.3247e+00, -5.6454e-01, -1.7962e-01,\n",
            "         -4.8460e-01, -1.2534e+00,  5.8616e-01, -1.2193e-01, -4.6107e-01,\n",
            "         -9.6357e-01,  7.0038e-02, -5.2475e-01, -1.4526e+00, -5.3789e-01,\n",
            "          6.3112e-01, -1.7611e+00, -1.1927e+00, -1.3160e+00, -2.1776e+00,\n",
            "         -1.2620e+00, -1.2813e+00, -9.9648e-01,  4.2369e-01,  4.9515e-01,\n",
            "          1.3648e+00, -7.7197e-01, -5.1286e-01, -5.2290e-01, -3.3085e-01,\n",
            "         -1.4880e-01, -9.4670e-01, -7.8604e-01, -1.6876e+00, -1.0362e+00,\n",
            "         -2.2744e+00, -1.9195e-01,  9.8840e-02, -1.4292e+00, -1.5068e+00,\n",
            "         -8.3544e-01, -2.4083e-01, -1.4504e+00, -4.6283e-01, -9.0258e-01,\n",
            "         -2.7479e-01, -2.7676e-01, -1.6174e+00, -7.8010e-01, -1.8865e+00,\n",
            "         -1.5381e+00, -2.1104e+00, -1.6499e+00, -1.9088e+00, -2.1443e+00,\n",
            "         -2.7045e-01, -9.4314e-01,  1.6942e-01, -6.2754e-01, -1.0229e+00,\n",
            "         -2.1287e+00, -2.0614e+00, -1.6254e+00, -8.5066e-01, -4.1104e+00,\n",
            "         -2.0908e+00, -2.4942e+00, -2.7094e+00, -2.9280e+00, -3.5762e+00,\n",
            "         -2.9878e+00, -1.4353e+00, -1.6365e+00, -2.9875e+00, -2.2679e+00,\n",
            "         -1.2337e+00, -3.8851e-01, -3.1781e+00, -7.0661e-01, -1.3839e+00,\n",
            "         -1.1393e+00, -2.1565e+00, -2.0999e+00, -5.4592e-01, -1.5663e+00,\n",
            "         -1.4084e+00, -2.0235e+00, -1.6601e+00, -3.3112e+00, -1.3141e+00,\n",
            "         -9.6575e-01, -1.9908e+00, -4.0953e-01,  7.5225e-01, -1.8934e+00,\n",
            "          4.3538e-01,  1.1547e+00, -1.7075e+00, -7.2390e-01, -1.9013e+00,\n",
            "         -1.8568e+00, -1.3462e+00, -1.1923e+00, -1.8114e+00, -1.0866e+00,\n",
            "         -2.2819e+00, -1.8484e+00, -4.1251e+00, -2.9749e+00, -7.9700e-01,\n",
            "         -1.6375e+00, -2.1964e+00, -1.7171e+00, -1.7944e+00, -2.8664e+00,\n",
            "         -3.8880e+00, -3.2821e+00, -1.3444e+00, -8.4278e-01,  6.3953e-01,\n",
            "         -2.4393e+00, -2.3662e+00, -1.3766e+00, -2.9070e+00, -1.4411e+00,\n",
            "         -1.7037e+00, -1.4511e+00, -9.7147e-01, -2.4886e+00,  1.4664e-01,\n",
            "         -3.4880e-01, -1.7638e+00, -1.8689e+00, -6.9856e-01, -2.0362e+00,\n",
            "         -4.5923e-01, -2.2801e+00, -5.8158e-01, -3.8847e-02, -2.5293e-01,\n",
            "          6.5354e-01, -5.7517e-01, -1.0012e+00, -1.1946e+00,  3.7423e-01,\n",
            "          2.6633e+00, -2.6258e+00, -2.9301e+00, -4.0320e-01, -2.3779e+00,\n",
            "         -3.3362e+00, -9.6575e-01, -1.9884e+00, -6.7201e-01, -5.1089e-01,\n",
            "          1.2717e+00,  5.4911e-01,  3.9628e-01,  2.9407e-01,  4.7115e-01,\n",
            "         -9.2596e-01, -1.3936e+00,  1.1840e+00,  4.0865e-01, -1.7666e+00,\n",
            "         -1.3361e-02,  4.3518e-02, -1.8991e+00, -1.1700e+00, -3.3449e-01,\n",
            "         -1.4002e+00, -1.0602e+00, -4.6127e-01, -7.4902e-01,  2.3567e-02,\n",
            "         -1.5823e+00, -1.2369e+00, -1.6293e+00, -8.8956e-01,  7.1869e-01,\n",
            "         -1.9938e+00,  2.4783e+00, -3.8380e+00, -2.7935e+00,  2.1426e+00,\n",
            "          5.0437e-01, -2.0068e+00, -4.7290e-01,  8.9298e-01, -2.9271e-01,\n",
            "          2.6615e+00,  5.3539e+00,  3.8466e+00,  1.3587e+00, -2.2959e+00,\n",
            "          1.6092e+00, -1.4627e+00,  6.5570e-01,  7.0110e-01,  1.5945e+00,\n",
            "          1.5315e+00, -2.2638e-01,  9.4409e-01,  8.0454e+00,  2.8326e+00,\n",
            "          1.3081e+00,  1.1649e+00,  1.3323e+00,  4.1787e-01,  4.4359e+00,\n",
            "          4.0692e+00,  1.6314e+00,  2.2384e+00,  1.5000e+00,  3.6596e+00,\n",
            "         -2.3951e+00,  2.4396e+00, -5.4110e-01, -6.7323e-01,  1.5579e+00,\n",
            "          1.4421e+00, -3.0243e+00,  2.2603e+00, -1.0698e-01, -1.0593e+00,\n",
            "         -7.8355e-01, -9.2963e-01,  1.0735e+00,  2.3414e+00,  3.5659e+00,\n",
            "          1.2208e+00,  3.8554e-01,  1.4626e+00, -1.5779e+00,  7.9644e-01,\n",
            "          1.3793e+00, -2.1887e+00,  8.1078e+00,  2.9769e+00, -1.2486e+00,\n",
            "         -1.6433e+00,  3.5551e+00,  2.0255e+00, -1.3217e+00,  2.1322e+00,\n",
            "          1.4098e-01,  4.3956e+00,  4.6338e+00,  3.9095e+00,  1.2666e-01,\n",
            "          4.4781e-01,  2.8841e+00,  1.2840e+00, -1.5704e-01,  2.6797e+00,\n",
            "          5.4190e+00, -9.2223e-01, -1.5153e-01, -3.1213e-01,  2.0273e-02,\n",
            "         -1.1068e+00,  3.9388e+00, -1.7904e+00,  3.2656e+00,  2.4185e+00,\n",
            "          1.4638e+00, -3.3872e-01,  1.6396e+00,  2.1556e+00, -1.4880e+00,\n",
            "          3.3913e+00,  2.4632e+00,  1.5616e+00,  1.5266e+00, -3.5158e+00,\n",
            "         -1.0110e+00,  1.9740e+00,  5.9604e+00,  2.7730e+00,  1.0944e+00,\n",
            "          2.0026e+00,  5.4391e+00, -3.2999e-01, -4.1700e+00,  1.2815e+00,\n",
            "         -3.3871e+00, -1.4528e+00, -3.7445e-01,  1.4183e+00,  3.9368e+00,\n",
            "          1.4967e+00,  2.1229e+00, -7.0593e-01,  2.5544e+00,  2.1810e+00,\n",
            "          1.6286e+00, -3.6273e-01,  2.3853e+00, -1.6097e-01,  6.1503e-01,\n",
            "         -9.8097e-01, -2.3654e+00,  3.9268e+00,  3.6309e+00,  3.8216e+00,\n",
            "          3.5710e+00, -3.3716e+00,  3.1617e+00,  3.1190e+00,  9.4573e-01,\n",
            "         -2.9586e+00, -9.7056e-01,  1.3650e+00,  3.7486e+00,  2.8620e+00,\n",
            "          4.4312e-01, -1.1363e+00, -3.8158e-02,  4.0857e+00, -4.2958e-03,\n",
            "          1.9580e+00,  2.7636e+00, -3.6278e+00, -1.7534e+00, -2.1465e+00,\n",
            "          4.1097e-01,  1.2379e-01, -1.5524e+00,  8.9579e-02,  3.2221e-01,\n",
            "          2.7746e-01,  1.5393e+00,  2.9496e+00,  4.8459e+00, -4.3915e-01,\n",
            "          5.1407e-01,  4.2326e+00, -1.9548e+00, -1.9699e+00, -1.1697e+00,\n",
            "          1.7447e+00,  1.5221e+00,  1.2694e+00,  2.6267e-01, -1.4634e-01,\n",
            "         -4.7670e-01, -2.1277e+00,  5.3084e-01,  4.5496e+00, -1.6285e+00,\n",
            "          2.4409e+00,  1.9445e+00,  3.3616e+00, -2.2392e-01, -2.1829e+00,\n",
            "          2.9243e-01,  1.1058e+00,  4.1736e-01,  3.9715e+00,  8.8264e-01,\n",
            "          5.9128e+00,  3.4749e+00,  1.0081e+00, -1.7802e+00,  1.2773e+00,\n",
            "          2.3647e+00, -9.7806e-01, -5.5721e-02, -1.7940e-01,  1.3129e+00,\n",
            "          3.6057e-02, -2.1480e+00, -1.0134e+00,  2.9620e+00,  1.2418e+00,\n",
            "          4.8561e+00,  2.1824e+00,  5.5734e+00, -1.4284e+00,  4.6495e+00,\n",
            "          2.9548e+00,  1.1649e+00,  2.4409e-01,  6.7014e+00,  3.4170e+00,\n",
            "          1.2410e-01,  4.6722e+00,  6.3532e+00, -7.5702e-01,  1.4664e+00,\n",
            "          3.9772e+00,  1.6109e-01,  1.2545e-01,  1.6072e-01,  2.6915e+00,\n",
            "          1.8816e+00,  1.7973e+00, -3.2213e+00,  2.7729e+00,  1.2624e+00,\n",
            "          3.1610e+00,  1.7339e+00,  9.6058e-01,  3.5867e+00,  2.5199e+00,\n",
            "          4.2827e+00,  8.0717e-01,  4.5397e+00,  1.7270e+00,  1.5191e-01,\n",
            "          2.0687e+00,  1.1131e+00,  3.9798e+00,  3.9422e-01,  8.5511e-01,\n",
            "         -2.2883e+00,  4.1860e+00,  7.6688e-01, -8.4947e-01,  1.9978e+00,\n",
            "         -2.6288e-01,  6.4623e-01,  2.9600e+00,  4.6789e+00,  1.5295e+00,\n",
            "          1.4561e+00,  2.3104e+00,  2.1800e+00,  7.1492e-01, -2.0668e-01,\n",
            "         -8.3223e-01,  2.9898e+00,  1.9312e+00,  4.6091e+00,  6.4221e-01,\n",
            "          5.7424e-01,  5.8579e-01, -8.4985e-01, -3.6959e-01,  1.9656e+00,\n",
            "          7.4292e+00, -1.4162e+00,  6.3470e+00,  1.7860e-01,  7.5718e-02,\n",
            "          1.8719e+00, -2.6372e-02,  1.9376e+00,  5.3834e-01, -2.5148e+00,\n",
            "          2.6834e-01,  1.6155e-01,  1.0880e-02, -3.5299e-01,  8.7278e-01,\n",
            "          1.9545e+00,  1.7539e+00,  2.7718e+00, -3.6831e-01, -2.4400e+00,\n",
            "          2.0476e+00,  1.7680e+00, -4.0210e+00, -1.0029e+00,  6.2581e-01,\n",
            "          2.3270e-01,  2.8081e+00,  1.7024e+00,  4.5827e+00, -6.0202e-01,\n",
            "         -8.4730e-01,  2.3816e+00,  2.1746e+00,  2.9852e+00,  2.4657e+00,\n",
            "         -9.3100e-01,  6.4579e-01, -7.7680e-01,  2.3482e+00,  7.5561e-01,\n",
            "         -1.1521e+00,  5.1326e+00,  2.1253e-02, -1.4714e-01, -1.6714e+00,\n",
            "          3.5672e+00,  3.4046e+00, -8.9291e-02,  9.1608e-01,  5.5590e+00,\n",
            "          9.8203e-01,  1.9591e+00, -1.9225e-01,  2.2240e+00,  4.2421e+00,\n",
            "         -3.5543e-01, -1.0927e+00,  4.7388e+00,  3.4968e+00, -7.5112e-01,\n",
            "          2.2164e+00,  2.1444e+00, -5.2574e-01,  8.6416e-01,  1.6580e+00,\n",
            "          1.8526e+00,  2.1021e+00, -1.9560e+00,  9.2971e-01, -9.7556e-01,\n",
            "          1.9247e+00, -1.6707e+00,  1.4282e+00,  6.5595e-01,  3.0201e-01,\n",
            "         -1.0976e+00,  1.1087e+00,  1.4059e+00,  9.7557e-01, -4.3430e+00,\n",
            "         -2.5069e-02,  4.6178e+00,  4.6584e+00,  4.0491e+00, -9.5417e-02,\n",
            "          7.6959e-01,  6.7961e-01,  3.0917e-01, -1.6287e+00,  1.1364e+00,\n",
            "          6.2752e+00, -1.4135e+00,  7.3761e-01,  2.0900e+00,  3.9957e+00,\n",
            "          3.3617e+00,  1.2583e+00,  1.6486e+00, -2.4384e-01,  1.5191e-01,\n",
            "         -3.0324e+00, -2.9380e+00,  1.7197e+00,  1.1628e+00,  2.8146e+00,\n",
            "          2.4404e+00, -1.1090e+00,  8.0180e-01,  4.3955e+00,  6.8143e+00,\n",
            "          5.5812e-01,  3.5526e+00,  7.0565e-01,  9.1460e+00,  7.2878e+00,\n",
            "         -8.9875e-02,  2.0820e-02,  1.0334e+00,  5.7935e-01,  2.3588e+00,\n",
            "          7.6899e-01,  6.0598e-02,  1.2760e+00, -4.3722e-01,  9.0289e-01,\n",
            "          6.1929e-01,  5.3049e+00,  2.7339e+00,  2.2683e+00,  7.4853e-01,\n",
            "         -1.2866e+00,  7.3669e-01,  9.7246e-01,  3.3557e+00,  2.7882e+00,\n",
            "          2.2013e+00,  2.2106e+00,  1.1187e+00,  5.2645e-01, -7.7361e-01,\n",
            "         -9.4418e-01,  3.4324e-01,  3.1914e+00,  2.0731e+00, -5.1355e-02,\n",
            "          3.6258e+00,  4.0920e+00, -1.8947e-01,  3.9208e+00, -4.6666e-01,\n",
            "          1.0962e+00,  2.0154e+00, -1.2170e+00, -1.3417e+00,  5.6538e-01,\n",
            "          9.5826e-01,  4.1001e-01,  2.2365e+00,  2.6674e+00, -2.0329e+00,\n",
            "          1.4530e+00, -5.9892e-01,  1.3416e+00,  3.7786e+00, -2.3914e+00,\n",
            "         -2.4040e+00, -1.5644e-01, -4.0219e+00,  2.9440e+00,  3.9145e+00,\n",
            "          6.5169e-01, -2.6113e+00,  1.2834e+00,  1.4172e+00,  2.8459e+00,\n",
            "          4.3085e-01,  2.9790e+00, -7.0385e-01,  7.9123e-01, -1.4346e-01,\n",
            "          9.4328e-01, -2.4923e+00, -3.0157e-01, -1.4841e+00,  3.9447e+00,\n",
            "          1.7390e+00,  5.2971e+00,  4.7425e+00,  2.6933e+00,  1.7420e+00,\n",
            "          2.8651e+00,  3.2368e+00,  4.1549e-01,  2.6025e+00,  3.5654e+00,\n",
            "          3.2628e+00, -1.3319e+00,  2.7463e+00,  1.5042e+00, -1.5850e+00,\n",
            "          2.3805e+00,  2.6790e+00,  3.1099e-01,  1.9663e+00, -1.1039e+00,\n",
            "          1.0850e+00,  6.8561e-01, -9.0603e-01, -3.4912e-01,  1.1734e+00,\n",
            "          2.3953e+00,  1.5109e-01,  4.1743e+00,  5.0432e+00,  8.6549e-02,\n",
            "          2.4643e+00,  7.9602e-01,  5.5021e-01, -6.8886e-01,  4.5367e+00,\n",
            "          6.8373e-01, -2.5503e+00,  7.7944e+00,  1.3436e+00, -1.5721e+00,\n",
            "          2.3258e+00, -1.0902e+00,  1.0473e+00,  2.0705e+00,  2.9253e+00,\n",
            "          3.2995e+00,  1.1633e+00,  2.6221e+00, -1.3946e+00, -9.0756e-01,\n",
            "         -1.1289e-01,  1.8409e+00,  3.0664e-01, -1.4393e+00,  5.0089e+00,\n",
            "         -4.2862e-01,  1.3875e+00,  1.0094e+00, -6.6396e-01, -2.6460e+00,\n",
            "          1.6869e-01, -2.8769e-01, -7.4124e-01,  2.2776e+00,  1.3158e+00,\n",
            "          1.9426e-01, -3.4897e-01,  5.4150e+00,  2.9902e+00,  9.9081e-01,\n",
            "          1.9257e+00,  2.3010e+00,  5.9126e-01, -5.8232e-01, -3.6125e-01,\n",
            "          5.6796e-01,  1.3649e+00, -3.1855e-01, -1.3013e+00, -4.0376e+00,\n",
            "         -2.1278e+00,  2.7796e+00,  3.8947e+00,  2.5772e+00,  4.1081e+00,\n",
            "          4.2271e+00,  4.1713e+00, -5.1502e-01, -2.4997e+00, -2.1464e+00,\n",
            "         -4.6236e+00, -3.2000e+00, -2.5356e+00,  6.7523e-01,  3.7703e+00,\n",
            "         -1.5571e+00, -1.1644e+00,  1.4142e+00, -2.2349e+00,  7.8877e-01,\n",
            "         -2.3829e+00, -5.6806e-01,  6.0253e-01,  5.9247e-01, -8.2137e-01,\n",
            "         -4.0343e+00, -4.2996e+00, -2.7918e+00, -2.4855e+00, -6.5344e-01,\n",
            "         -4.3266e+00, -1.9564e+00, -8.9712e-01, -5.3326e-01, -1.9089e+00,\n",
            "         -5.1568e-01, -1.3157e+00, -2.0387e+00,  4.9593e-01,  3.7871e-01,\n",
            "         -3.7558e-01, -8.8183e-01, -1.0765e+00,  2.4841e+00, -2.9744e+00,\n",
            "         -3.4017e-02,  6.6526e-01, -2.4433e+00, -1.6673e+00, -3.1083e+00,\n",
            "          1.3602e+00,  1.4356e+00,  1.5346e+00,  8.1852e-01, -9.2306e-01,\n",
            "          1.4147e+00,  2.9778e+00,  1.8331e+00, -1.8193e+00, -3.2085e-01,\n",
            "          3.0359e-03, -1.3341e+00, -7.6137e-01, -4.5046e-01, -9.9511e-01,\n",
            "          5.0379e-01,  4.2433e+00,  1.6293e+00,  1.8819e+00,  1.2426e+00,\n",
            "         -2.9062e+00, -4.8701e+00,  1.8893e-01, -1.5802e-01, -2.0985e+00,\n",
            "         -1.2695e+00, -2.3363e+00, -3.5305e+00, -5.0938e-01, -6.4953e-01,\n",
            "         -1.5896e+00,  6.1075e-01, -1.4552e+00,  1.9120e-01,  1.3683e+00]],\n",
            "       device='cuda:0', grad_fn=<AddmmBackward>)\n"
          ],
          "name": "stdout"
        }
      ]
    },
    {
      "cell_type": "code",
      "metadata": {
        "id": "YqKHhV1NprKt"
      },
      "source": [
        "probabilities = torch.nn.Softmax(dim=1)(logits)\n",
        "sortedproba = torch.argsort(probabilities,dim=1,descending=True)"
      ],
      "execution_count": 14,
      "outputs": []
    },
    {
      "cell_type": "code",
      "metadata": {
        "colab": {
          "base_uri": "https://localhost:8080/"
        },
        "id": "gpijuLDFtp-A",
        "outputId": "4380ab14-d6e2-4d11-a074-354e7b2a7214"
      },
      "source": [
        "for (i, idx) in enumerate(sortedproba[0, :5]):\n",
        "\tprint(\"{}. {}: {:.2f}%\".format\n",
        "\t\t(i, imagenetLabels[idx.item()].strip(),\n",
        "\t\tprobabilities[0, idx.item()] * 100))"
      ],
      "execution_count": 16,
      "outputs": [
        {
          "output_type": "stream",
          "text": [
            "0. revolver, six-gun, six-shooter: 27.42%\n",
            "1. binoculars, field_glasses, opera_glasses: 9.71%\n",
            "2. assault_rifle, assault_gun: 9.12%\n",
            "3. tripod: 7.10%\n",
            "4. microphone, mike: 4.93%\n"
          ],
          "name": "stdout"
        }
      ]
    },
    {
      "cell_type": "code",
      "metadata": {
        "colab": {
          "base_uri": "https://localhost:8080/",
          "height": 320
        },
        "id": "w5iKsvQ6tubr",
        "outputId": "81b7916d-bfa2-42f0-9261-23ee7799b70b"
      },
      "source": [
        "# draw the top prediction on the image and display the image to\n",
        "# our screen\n",
        "from google.colab.patches import cv2_imshow\n",
        "(label, prob) = (imagenetLabels[probabilities.argmax().item()],\n",
        "\tprobabilities.max().item())\n",
        "cv2.putText(orig, \"Label: {}, {:.2f}%\".format(label.strip(), prob * 100),\n",
        "\t(10, 30), cv2.FONT_HERSHEY_SIMPLEX, 0.8, (0, 0, 255), 2)\n",
        "cv2_imshow(orig)\n",
        "cv2.waitKey(0)"
      ],
      "execution_count": 18,
      "outputs": [
        {
          "output_type": "display_data",
          "data": {
            "image/png": "[encoded data removed]",
            "text/plain": [
              "<PIL.Image.Image image mode=RGB size=468x286 at 0x7F0AA4028750>"
            ]
          },
          "metadata": {
            "tags": []
          }
        },
        {
          "output_type": "execute_result",
          "data": {
            "text/plain": [
              "-1"
            ]
          },
          "metadata": {
            "tags": []
          },
          "execution_count": 18
        }
      ]
    },
    {
      "cell_type": "code",
      "metadata": {
        "id": "Ac4ww7cHt-Zc"
      },
      "source": [
        ""
      ],
      "execution_count": null,
      "outputs": []
    }
  ]
}