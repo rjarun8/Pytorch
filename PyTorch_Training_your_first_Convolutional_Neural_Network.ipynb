{
  "nbformat": 4,
  "nbformat_minor": 0,
  "metadata": {
    "colab": {
      "name": "PyTorch: Training your first Convolutional Neural Network ",
      "provenance": [],
      "authorship_tag": "ABX9TyP/1585rmZuagTDUt7GRKyk",
      "include_colab_link": true
    },
    "kernelspec": {
      "name": "python3",
      "display_name": "Python 3"
    },
    "language_info": {
      "name": "python"
    },
    "accelerator": "GPU",
    "widgets": {
      "application/vnd.jupyter.widget-state+json": {
        "edb2097bbc7a40fb9685b6b900d7c875": {
          "model_module": "@jupyter-widgets/controls",
          "model_name": "HBoxModel",
          "state": {
            "_view_name": "HBoxView",
            "_dom_classes": [],
            "_model_name": "HBoxModel",
            "_view_module": "@jupyter-widgets/controls",
            "_model_module_version": "1.5.0",
            "_view_count": null,
            "_view_module_version": "1.5.0",
            "box_style": "",
            "layout": "IPY_MODEL_5cd92f5db2854a47b97447f3928ced6b",
            "_model_module": "@jupyter-widgets/controls",
            "children": [
              "IPY_MODEL_4467d5c2b8b9408a97861294a34dde95",
              "IPY_MODEL_b9d672d4e79e41d5aa6bc379314b8274"
            ]
          }
        },
        "5cd92f5db2854a47b97447f3928ced6b": {
          "model_module": "@jupyter-widgets/base",
          "model_name": "LayoutModel",
          "state": {
            "_view_name": "LayoutView",
            "grid_template_rows": null,
            "right": null,
            "justify_content": null,
            "_view_module": "@jupyter-widgets/base",
            "overflow": null,
            "_model_module_version": "1.2.0",
            "_view_count": null,
            "flex_flow": null,
            "width": null,
            "min_width": null,
            "border": null,
            "align_items": null,
            "bottom": null,
            "_model_module": "@jupyter-widgets/base",
            "top": null,
            "grid_column": null,
            "overflow_y": null,
            "overflow_x": null,
            "grid_auto_flow": null,
            "grid_area": null,
            "grid_template_columns": null,
            "flex": null,
            "_model_name": "LayoutModel",
            "justify_items": null,
            "grid_row": null,
            "max_height": null,
            "align_content": null,
            "visibility": null,
            "align_self": null,
            "height": null,
            "min_height": null,
            "padding": null,
            "grid_auto_rows": null,
            "grid_gap": null,
            "max_width": null,
            "order": null,
            "_view_module_version": "1.2.0",
            "grid_template_areas": null,
            "object_position": null,
            "object_fit": null,
            "grid_auto_columns": null,
            "margin": null,
            "display": null,
            "left": null
          }
        },
        "4467d5c2b8b9408a97861294a34dde95": {
          "model_module": "@jupyter-widgets/controls",
          "model_name": "FloatProgressModel",
          "state": {
            "_view_name": "ProgressView",
            "style": "IPY_MODEL_8b7ef9a05f52452e9d691d6b284cfb0d",
            "_dom_classes": [],
            "description": "",
            "_model_name": "FloatProgressModel",
            "bar_style": "success",
            "max": 18165135,
            "_view_module": "@jupyter-widgets/controls",
            "_model_module_version": "1.5.0",
            "value": 18165135,
            "_view_count": null,
            "_view_module_version": "1.5.0",
            "orientation": "horizontal",
            "min": 0,
            "description_tooltip": null,
            "_model_module": "@jupyter-widgets/controls",
            "layout": "IPY_MODEL_9ee4eef34a824277b52c40bcccdad34d"
          }
        },
        "b9d672d4e79e41d5aa6bc379314b8274": {
          "model_module": "@jupyter-widgets/controls",
          "model_name": "HTMLModel",
          "state": {
            "_view_name": "HTMLView",
            "style": "IPY_MODEL_266129a0339542d9af898527f09a3fba",
            "_dom_classes": [],
            "description": "",
            "_model_name": "HTMLModel",
            "placeholder": "​",
            "_view_module": "@jupyter-widgets/controls",
            "_model_module_version": "1.5.0",
            "value": " 18165760/? [00:07&lt;00:00, 2313552.44it/s]",
            "_view_count": null,
            "_view_module_version": "1.5.0",
            "description_tooltip": null,
            "_model_module": "@jupyter-widgets/controls",
            "layout": "IPY_MODEL_c3f6f7517d234b59b32dd44982d09f12"
          }
        },
        "8b7ef9a05f52452e9d691d6b284cfb0d": {
          "model_module": "@jupyter-widgets/controls",
          "model_name": "ProgressStyleModel",
          "state": {
            "_view_name": "StyleView",
            "_model_name": "ProgressStyleModel",
            "description_width": "initial",
            "_view_module": "@jupyter-widgets/base",
            "_model_module_version": "1.5.0",
            "_view_count": null,
            "_view_module_version": "1.2.0",
            "bar_color": null,
            "_model_module": "@jupyter-widgets/controls"
          }
        },
        "9ee4eef34a824277b52c40bcccdad34d": {
          "model_module": "@jupyter-widgets/base",
          "model_name": "LayoutModel",
          "state": {
            "_view_name": "LayoutView",
            "grid_template_rows": null,
            "right": null,
            "justify_content": null,
            "_view_module": "@jupyter-widgets/base",
            "overflow": null,
            "_model_module_version": "1.2.0",
            "_view_count": null,
            "flex_flow": null,
            "width": null,
            "min_width": null,
            "border": null,
            "align_items": null,
            "bottom": null,
            "_model_module": "@jupyter-widgets/base",
            "top": null,
            "grid_column": null,
            "overflow_y": null,
            "overflow_x": null,
            "grid_auto_flow": null,
            "grid_area": null,
            "grid_template_columns": null,
            "flex": null,
            "_model_name": "LayoutModel",
            "justify_items": null,
            "grid_row": null,
            "max_height": null,
            "align_content": null,
            "visibility": null,
            "align_self": null,
            "height": null,
            "min_height": null,
            "padding": null,
            "grid_auto_rows": null,
            "grid_gap": null,
            "max_width": null,
            "order": null,
            "_view_module_version": "1.2.0",
            "grid_template_areas": null,
            "object_position": null,
            "object_fit": null,
            "grid_auto_columns": null,
            "margin": null,
            "display": null,
            "left": null
          }
        },
        "266129a0339542d9af898527f09a3fba": {
          "model_module": "@jupyter-widgets/controls",
          "model_name": "DescriptionStyleModel",
          "state": {
            "_view_name": "StyleView",
            "_model_name": "DescriptionStyleModel",
            "description_width": "",
            "_view_module": "@jupyter-widgets/base",
            "_model_module_version": "1.5.0",
            "_view_count": null,
            "_view_module_version": "1.2.0",
            "_model_module": "@jupyter-widgets/controls"
          }
        },
        "c3f6f7517d234b59b32dd44982d09f12": {
          "model_module": "@jupyter-widgets/base",
          "model_name": "LayoutModel",
          "state": {
            "_view_name": "LayoutView",
            "grid_template_rows": null,
            "right": null,
            "justify_content": null,
            "_view_module": "@jupyter-widgets/base",
            "overflow": null,
            "_model_module_version": "1.2.0",
            "_view_count": null,
            "flex_flow": null,
            "width": null,
            "min_width": null,
            "border": null,
            "align_items": null,
            "bottom": null,
            "_model_module": "@jupyter-widgets/base",
            "top": null,
            "grid_column": null,
            "overflow_y": null,
            "overflow_x": null,
            "grid_auto_flow": null,
            "grid_area": null,
            "grid_template_columns": null,
            "flex": null,
            "_model_name": "LayoutModel",
            "justify_items": null,
            "grid_row": null,
            "max_height": null,
            "align_content": null,
            "visibility": null,
            "align_self": null,
            "height": null,
            "min_height": null,
            "padding": null,
            "grid_auto_rows": null,
            "grid_gap": null,
            "max_width": null,
            "order": null,
            "_view_module_version": "1.2.0",
            "grid_template_areas": null,
            "object_position": null,
            "object_fit": null,
            "grid_auto_columns": null,
            "margin": null,
            "display": null,
            "left": null
          }
        },
        "1e551e6357d348d0933cc1e6a0ff4a81": {
          "model_module": "@jupyter-widgets/controls",
          "model_name": "HBoxModel",
          "state": {
            "_view_name": "HBoxView",
            "_dom_classes": [],
            "_model_name": "HBoxModel",
            "_view_module": "@jupyter-widgets/controls",
            "_model_module_version": "1.5.0",
            "_view_count": null,
            "_view_module_version": "1.5.0",
            "box_style": "",
            "layout": "IPY_MODEL_468bde7513e6498caeaf12547ac5d3d8",
            "_model_module": "@jupyter-widgets/controls",
            "children": [
              "IPY_MODEL_561075062c054ba3a3c9e3eda16f3714",
              "IPY_MODEL_7c5c6da253b94d10891a5bea8977e1d3"
            ]
          }
        },
        "468bde7513e6498caeaf12547ac5d3d8": {
          "model_module": "@jupyter-widgets/base",
          "model_name": "LayoutModel",
          "state": {
            "_view_name": "LayoutView",
            "grid_template_rows": null,
            "right": null,
            "justify_content": null,
            "_view_module": "@jupyter-widgets/base",
            "overflow": null,
            "_model_module_version": "1.2.0",
            "_view_count": null,
            "flex_flow": null,
            "width": null,
            "min_width": null,
            "border": null,
            "align_items": null,
            "bottom": null,
            "_model_module": "@jupyter-widgets/base",
            "top": null,
            "grid_column": null,
            "overflow_y": null,
            "overflow_x": null,
            "grid_auto_flow": null,
            "grid_area": null,
            "grid_template_columns": null,
            "flex": null,
            "_model_name": "LayoutModel",
            "justify_items": null,
            "grid_row": null,
            "max_height": null,
            "align_content": null,
            "visibility": null,
            "align_self": null,
            "height": null,
            "min_height": null,
            "padding": null,
            "grid_auto_rows": null,
            "grid_gap": null,
            "max_width": null,
            "order": null,
            "_view_module_version": "1.2.0",
            "grid_template_areas": null,
            "object_position": null,
            "object_fit": null,
            "grid_auto_columns": null,
            "margin": null,
            "display": null,
            "left": null
          }
        },
        "561075062c054ba3a3c9e3eda16f3714": {
          "model_module": "@jupyter-widgets/controls",
          "model_name": "FloatProgressModel",
          "state": {
            "_view_name": "ProgressView",
            "style": "IPY_MODEL_00a7b171268d41e4be4919d57d0f83e4",
            "_dom_classes": [],
            "description": "",
            "_model_name": "FloatProgressModel",
            "bar_style": "success",
            "max": 29497,
            "_view_module": "@jupyter-widgets/controls",
            "_model_module_version": "1.5.0",
            "value": 29497,
            "_view_count": null,
            "_view_module_version": "1.5.0",
            "orientation": "horizontal",
            "min": 0,
            "description_tooltip": null,
            "_model_module": "@jupyter-widgets/controls",
            "layout": "IPY_MODEL_fc0998b2a24e4817afd285156153b6df"
          }
        },
        "7c5c6da253b94d10891a5bea8977e1d3": {
          "model_module": "@jupyter-widgets/controls",
          "model_name": "HTMLModel",
          "state": {
            "_view_name": "HTMLView",
            "style": "IPY_MODEL_a6c210e85acb431f80d2b6329fb27e2d",
            "_dom_classes": [],
            "description": "",
            "_model_name": "HTMLModel",
            "placeholder": "​",
            "_view_module": "@jupyter-widgets/controls",
            "_model_module_version": "1.5.0",
            "value": " 29696/? [01:52&lt;00:00, 264.27it/s]",
            "_view_count": null,
            "_view_module_version": "1.5.0",
            "description_tooltip": null,
            "_model_module": "@jupyter-widgets/controls",
            "layout": "IPY_MODEL_22244c570d9647e29a35b1871a099c3e"
          }
        },
        "00a7b171268d41e4be4919d57d0f83e4": {
          "model_module": "@jupyter-widgets/controls",
          "model_name": "ProgressStyleModel",
          "state": {
            "_view_name": "StyleView",
            "_model_name": "ProgressStyleModel",
            "description_width": "initial",
            "_view_module": "@jupyter-widgets/base",
            "_model_module_version": "1.5.0",
            "_view_count": null,
            "_view_module_version": "1.2.0",
            "bar_color": null,
            "_model_module": "@jupyter-widgets/controls"
          }
        },
        "fc0998b2a24e4817afd285156153b6df": {
          "model_module": "@jupyter-widgets/base",
          "model_name": "LayoutModel",
          "state": {
            "_view_name": "LayoutView",
            "grid_template_rows": null,
            "right": null,
            "justify_content": null,
            "_view_module": "@jupyter-widgets/base",
            "overflow": null,
            "_model_module_version": "1.2.0",
            "_view_count": null,
            "flex_flow": null,
            "width": null,
            "min_width": null,
            "border": null,
            "align_items": null,
            "bottom": null,
            "_model_module": "@jupyter-widgets/base",
            "top": null,
            "grid_column": null,
            "overflow_y": null,
            "overflow_x": null,
            "grid_auto_flow": null,
            "grid_area": null,
            "grid_template_columns": null,
            "flex": null,
            "_model_name": "LayoutModel",
            "justify_items": null,
            "grid_row": null,
            "max_height": null,
            "align_content": null,
            "visibility": null,
            "align_self": null,
            "height": null,
            "min_height": null,
            "padding": null,
            "grid_auto_rows": null,
            "grid_gap": null,
            "max_width": null,
            "order": null,
            "_view_module_version": "1.2.0",
            "grid_template_areas": null,
            "object_position": null,
            "object_fit": null,
            "grid_auto_columns": null,
            "margin": null,
            "display": null,
            "left": null
          }
        },
        "a6c210e85acb431f80d2b6329fb27e2d": {
          "model_module": "@jupyter-widgets/controls",
          "model_name": "DescriptionStyleModel",
          "state": {
            "_view_name": "StyleView",
            "_model_name": "DescriptionStyleModel",
            "description_width": "",
            "_view_module": "@jupyter-widgets/base",
            "_model_module_version": "1.5.0",
            "_view_count": null,
            "_view_module_version": "1.2.0",
            "_model_module": "@jupyter-widgets/controls"
          }
        },
        "22244c570d9647e29a35b1871a099c3e": {
          "model_module": "@jupyter-widgets/base",
          "model_name": "LayoutModel",
          "state": {
            "_view_name": "LayoutView",
            "grid_template_rows": null,
            "right": null,
            "justify_content": null,
            "_view_module": "@jupyter-widgets/base",
            "overflow": null,
            "_model_module_version": "1.2.0",
            "_view_count": null,
            "flex_flow": null,
            "width": null,
            "min_width": null,
            "border": null,
            "align_items": null,
            "bottom": null,
            "_model_module": "@jupyter-widgets/base",
            "top": null,
            "grid_column": null,
            "overflow_y": null,
            "overflow_x": null,
            "grid_auto_flow": null,
            "grid_area": null,
            "grid_template_columns": null,
            "flex": null,
            "_model_name": "LayoutModel",
            "justify_items": null,
            "grid_row": null,
            "max_height": null,
            "align_content": null,
            "visibility": null,
            "align_self": null,
            "height": null,
            "min_height": null,
            "padding": null,
            "grid_auto_rows": null,
            "grid_gap": null,
            "max_width": null,
            "order": null,
            "_view_module_version": "1.2.0",
            "grid_template_areas": null,
            "object_position": null,
            "object_fit": null,
            "grid_auto_columns": null,
            "margin": null,
            "display": null,
            "left": null
          }
        },
        "24b43064a1c544d3a146e62f6f4f633f": {
          "model_module": "@jupyter-widgets/controls",
          "model_name": "HBoxModel",
          "state": {
            "_view_name": "HBoxView",
            "_dom_classes": [],
            "_model_name": "HBoxModel",
            "_view_module": "@jupyter-widgets/controls",
            "_model_module_version": "1.5.0",
            "_view_count": null,
            "_view_module_version": "1.5.0",
            "box_style": "",
            "layout": "IPY_MODEL_56b99df563fc4b0ea93e832a1ec5f445",
            "_model_module": "@jupyter-widgets/controls",
            "children": [
              "IPY_MODEL_33a6e31d517c4258bdb4e4611469145a",
              "IPY_MODEL_f27f90e300934a48a05641e8e5f939cf"
            ]
          }
        },
        "56b99df563fc4b0ea93e832a1ec5f445": {
          "model_module": "@jupyter-widgets/base",
          "model_name": "LayoutModel",
          "state": {
            "_view_name": "LayoutView",
            "grid_template_rows": null,
            "right": null,
            "justify_content": null,
            "_view_module": "@jupyter-widgets/base",
            "overflow": null,
            "_model_module_version": "1.2.0",
            "_view_count": null,
            "flex_flow": null,
            "width": null,
            "min_width": null,
            "border": null,
            "align_items": null,
            "bottom": null,
            "_model_module": "@jupyter-widgets/base",
            "top": null,
            "grid_column": null,
            "overflow_y": null,
            "overflow_x": null,
            "grid_auto_flow": null,
            "grid_area": null,
            "grid_template_columns": null,
            "flex": null,
            "_model_name": "LayoutModel",
            "justify_items": null,
            "grid_row": null,
            "max_height": null,
            "align_content": null,
            "visibility": null,
            "align_self": null,
            "height": null,
            "min_height": null,
            "padding": null,
            "grid_auto_rows": null,
            "grid_gap": null,
            "max_width": null,
            "order": null,
            "_view_module_version": "1.2.0",
            "grid_template_areas": null,
            "object_position": null,
            "object_fit": null,
            "grid_auto_columns": null,
            "margin": null,
            "display": null,
            "left": null
          }
        },
        "33a6e31d517c4258bdb4e4611469145a": {
          "model_module": "@jupyter-widgets/controls",
          "model_name": "FloatProgressModel",
          "state": {
            "_view_name": "ProgressView",
            "style": "IPY_MODEL_eca57061cd904466885d251cbab1ee06",
            "_dom_classes": [],
            "description": "",
            "_model_name": "FloatProgressModel",
            "bar_style": "success",
            "max": 3041136,
            "_view_module": "@jupyter-widgets/controls",
            "_model_module_version": "1.5.0",
            "value": 3041136,
            "_view_count": null,
            "_view_module_version": "1.5.0",
            "orientation": "horizontal",
            "min": 0,
            "description_tooltip": null,
            "_model_module": "@jupyter-widgets/controls",
            "layout": "IPY_MODEL_1bef91f808ae47a8b38ca480353b0959"
          }
        },
        "f27f90e300934a48a05641e8e5f939cf": {
          "model_module": "@jupyter-widgets/controls",
          "model_name": "HTMLModel",
          "state": {
            "_view_name": "HTMLView",
            "style": "IPY_MODEL_dc48e23e6121442d9899b00c18a437e7",
            "_dom_classes": [],
            "description": "",
            "_model_name": "HTMLModel",
            "placeholder": "​",
            "_view_module": "@jupyter-widgets/controls",
            "_model_module_version": "1.5.0",
            "value": " 3041280/? [00:05&lt;00:00, 562002.45it/s]",
            "_view_count": null,
            "_view_module_version": "1.5.0",
            "description_tooltip": null,
            "_model_module": "@jupyter-widgets/controls",
            "layout": "IPY_MODEL_91578053a88f4957879887b5ba1c35bb"
          }
        },
        "eca57061cd904466885d251cbab1ee06": {
          "model_module": "@jupyter-widgets/controls",
          "model_name": "ProgressStyleModel",
          "state": {
            "_view_name": "StyleView",
            "_model_name": "ProgressStyleModel",
            "description_width": "initial",
            "_view_module": "@jupyter-widgets/base",
            "_model_module_version": "1.5.0",
            "_view_count": null,
            "_view_module_version": "1.2.0",
            "bar_color": null,
            "_model_module": "@jupyter-widgets/controls"
          }
        },
        "1bef91f808ae47a8b38ca480353b0959": {
          "model_module": "@jupyter-widgets/base",
          "model_name": "LayoutModel",
          "state": {
            "_view_name": "LayoutView",
            "grid_template_rows": null,
            "right": null,
            "justify_content": null,
            "_view_module": "@jupyter-widgets/base",
            "overflow": null,
            "_model_module_version": "1.2.0",
            "_view_count": null,
            "flex_flow": null,
            "width": null,
            "min_width": null,
            "border": null,
            "align_items": null,
            "bottom": null,
            "_model_module": "@jupyter-widgets/base",
            "top": null,
            "grid_column": null,
            "overflow_y": null,
            "overflow_x": null,
            "grid_auto_flow": null,
            "grid_area": null,
            "grid_template_columns": null,
            "flex": null,
            "_model_name": "LayoutModel",
            "justify_items": null,
            "grid_row": null,
            "max_height": null,
            "align_content": null,
            "visibility": null,
            "align_self": null,
            "height": null,
            "min_height": null,
            "padding": null,
            "grid_auto_rows": null,
            "grid_gap": null,
            "max_width": null,
            "order": null,
            "_view_module_version": "1.2.0",
            "grid_template_areas": null,
            "object_position": null,
            "object_fit": null,
            "grid_auto_columns": null,
            "margin": null,
            "display": null,
            "left": null
          }
        },
        "dc48e23e6121442d9899b00c18a437e7": {
          "model_module": "@jupyter-widgets/controls",
          "model_name": "DescriptionStyleModel",
          "state": {
            "_view_name": "StyleView",
            "_model_name": "DescriptionStyleModel",
            "description_width": "",
            "_view_module": "@jupyter-widgets/base",
            "_model_module_version": "1.5.0",
            "_view_count": null,
            "_view_module_version": "1.2.0",
            "_model_module": "@jupyter-widgets/controls"
          }
        },
        "91578053a88f4957879887b5ba1c35bb": {
          "model_module": "@jupyter-widgets/base",
          "model_name": "LayoutModel",
          "state": {
            "_view_name": "LayoutView",
            "grid_template_rows": null,
            "right": null,
            "justify_content": null,
            "_view_module": "@jupyter-widgets/base",
            "overflow": null,
            "_model_module_version": "1.2.0",
            "_view_count": null,
            "flex_flow": null,
            "width": null,
            "min_width": null,
            "border": null,
            "align_items": null,
            "bottom": null,
            "_model_module": "@jupyter-widgets/base",
            "top": null,
            "grid_column": null,
            "overflow_y": null,
            "overflow_x": null,
            "grid_auto_flow": null,
            "grid_area": null,
            "grid_template_columns": null,
            "flex": null,
            "_model_name": "LayoutModel",
            "justify_items": null,
            "grid_row": null,
            "max_height": null,
            "align_content": null,
            "visibility": null,
            "align_self": null,
            "height": null,
            "min_height": null,
            "padding": null,
            "grid_auto_rows": null,
            "grid_gap": null,
            "max_width": null,
            "order": null,
            "_view_module_version": "1.2.0",
            "grid_template_areas": null,
            "object_position": null,
            "object_fit": null,
            "grid_auto_columns": null,
            "margin": null,
            "display": null,
            "left": null
          }
        },
        "e1995e577de245f888e077e25e92773e": {
          "model_module": "@jupyter-widgets/controls",
          "model_name": "HBoxModel",
          "state": {
            "_view_name": "HBoxView",
            "_dom_classes": [],
            "_model_name": "HBoxModel",
            "_view_module": "@jupyter-widgets/controls",
            "_model_module_version": "1.5.0",
            "_view_count": null,
            "_view_module_version": "1.5.0",
            "box_style": "",
            "layout": "IPY_MODEL_02bed90495354f1d8426474b7bd984b0",
            "_model_module": "@jupyter-widgets/controls",
            "children": [
              "IPY_MODEL_d9f758a55b7a484984c078a58b0fc799",
              "IPY_MODEL_b406e2ee7e11435aacf8f6b54d578f9b"
            ]
          }
        },
        "02bed90495354f1d8426474b7bd984b0": {
          "model_module": "@jupyter-widgets/base",
          "model_name": "LayoutModel",
          "state": {
            "_view_name": "LayoutView",
            "grid_template_rows": null,
            "right": null,
            "justify_content": null,
            "_view_module": "@jupyter-widgets/base",
            "overflow": null,
            "_model_module_version": "1.2.0",
            "_view_count": null,
            "flex_flow": null,
            "width": null,
            "min_width": null,
            "border": null,
            "align_items": null,
            "bottom": null,
            "_model_module": "@jupyter-widgets/base",
            "top": null,
            "grid_column": null,
            "overflow_y": null,
            "overflow_x": null,
            "grid_auto_flow": null,
            "grid_area": null,
            "grid_template_columns": null,
            "flex": null,
            "_model_name": "LayoutModel",
            "justify_items": null,
            "grid_row": null,
            "max_height": null,
            "align_content": null,
            "visibility": null,
            "align_self": null,
            "height": null,
            "min_height": null,
            "padding": null,
            "grid_auto_rows": null,
            "grid_gap": null,
            "max_width": null,
            "order": null,
            "_view_module_version": "1.2.0",
            "grid_template_areas": null,
            "object_position": null,
            "object_fit": null,
            "grid_auto_columns": null,
            "margin": null,
            "display": null,
            "left": null
          }
        },
        "d9f758a55b7a484984c078a58b0fc799": {
          "model_module": "@jupyter-widgets/controls",
          "model_name": "FloatProgressModel",
          "state": {
            "_view_name": "ProgressView",
            "style": "IPY_MODEL_ab27c1c3279e44119634d348d4c3e6ee",
            "_dom_classes": [],
            "description": "100%",
            "_model_name": "FloatProgressModel",
            "bar_style": "success",
            "max": 5120,
            "_view_module": "@jupyter-widgets/controls",
            "_model_module_version": "1.5.0",
            "value": 5120,
            "_view_count": null,
            "_view_module_version": "1.5.0",
            "orientation": "horizontal",
            "min": 0,
            "description_tooltip": null,
            "_model_module": "@jupyter-widgets/controls",
            "layout": "IPY_MODEL_ca94b0078005452096f9d15fce96fd77"
          }
        },
        "b406e2ee7e11435aacf8f6b54d578f9b": {
          "model_module": "@jupyter-widgets/controls",
          "model_name": "HTMLModel",
          "state": {
            "_view_name": "HTMLView",
            "style": "IPY_MODEL_33c2b846ae88403d9f00c23650766233",
            "_dom_classes": [],
            "description": "",
            "_model_name": "HTMLModel",
            "placeholder": "​",
            "_view_module": "@jupyter-widgets/controls",
            "_model_module_version": "1.5.0",
            "value": " 5120/5120 [00:01&lt;00:00, 2574.45it/s]",
            "_view_count": null,
            "_view_module_version": "1.5.0",
            "description_tooltip": null,
            "_model_module": "@jupyter-widgets/controls",
            "layout": "IPY_MODEL_abc13d5bea294c03bae656180da81901"
          }
        },
        "ab27c1c3279e44119634d348d4c3e6ee": {
          "model_module": "@jupyter-widgets/controls",
          "model_name": "ProgressStyleModel",
          "state": {
            "_view_name": "StyleView",
            "_model_name": "ProgressStyleModel",
            "description_width": "initial",
            "_view_module": "@jupyter-widgets/base",
            "_model_module_version": "1.5.0",
            "_view_count": null,
            "_view_module_version": "1.2.0",
            "bar_color": null,
            "_model_module": "@jupyter-widgets/controls"
          }
        },
        "ca94b0078005452096f9d15fce96fd77": {
          "model_module": "@jupyter-widgets/base",
          "model_name": "LayoutModel",
          "state": {
            "_view_name": "LayoutView",
            "grid_template_rows": null,
            "right": null,
            "justify_content": null,
            "_view_module": "@jupyter-widgets/base",
            "overflow": null,
            "_model_module_version": "1.2.0",
            "_view_count": null,
            "flex_flow": null,
            "width": null,
            "min_width": null,
            "border": null,
            "align_items": null,
            "bottom": null,
            "_model_module": "@jupyter-widgets/base",
            "top": null,
            "grid_column": null,
            "overflow_y": null,
            "overflow_x": null,
            "grid_auto_flow": null,
            "grid_area": null,
            "grid_template_columns": null,
            "flex": null,
            "_model_name": "LayoutModel",
            "justify_items": null,
            "grid_row": null,
            "max_height": null,
            "align_content": null,
            "visibility": null,
            "align_self": null,
            "height": null,
            "min_height": null,
            "padding": null,
            "grid_auto_rows": null,
            "grid_gap": null,
            "max_width": null,
            "order": null,
            "_view_module_version": "1.2.0",
            "grid_template_areas": null,
            "object_position": null,
            "object_fit": null,
            "grid_auto_columns": null,
            "margin": null,
            "display": null,
            "left": null
          }
        },
        "33c2b846ae88403d9f00c23650766233": {
          "model_module": "@jupyter-widgets/controls",
          "model_name": "DescriptionStyleModel",
          "state": {
            "_view_name": "StyleView",
            "_model_name": "DescriptionStyleModel",
            "description_width": "",
            "_view_module": "@jupyter-widgets/base",
            "_model_module_version": "1.5.0",
            "_view_count": null,
            "_view_module_version": "1.2.0",
            "_model_module": "@jupyter-widgets/controls"
          }
        },
        "abc13d5bea294c03bae656180da81901": {
          "model_module": "@jupyter-widgets/base",
          "model_name": "LayoutModel",
          "state": {
            "_view_name": "LayoutView",
            "grid_template_rows": null,
            "right": null,
            "justify_content": null,
            "_view_module": "@jupyter-widgets/base",
            "overflow": null,
            "_model_module_version": "1.2.0",
            "_view_count": null,
            "flex_flow": null,
            "width": null,
            "min_width": null,
            "border": null,
            "align_items": null,
            "bottom": null,
            "_model_module": "@jupyter-widgets/base",
            "top": null,
            "grid_column": null,
            "overflow_y": null,
            "overflow_x": null,
            "grid_auto_flow": null,
            "grid_area": null,
            "grid_template_columns": null,
            "flex": null,
            "_model_name": "LayoutModel",
            "justify_items": null,
            "grid_row": null,
            "max_height": null,
            "align_content": null,
            "visibility": null,
            "align_self": null,
            "height": null,
            "min_height": null,
            "padding": null,
            "grid_auto_rows": null,
            "grid_gap": null,
            "max_width": null,
            "order": null,
            "_view_module_version": "1.2.0",
            "grid_template_areas": null,
            "object_position": null,
            "object_fit": null,
            "grid_auto_columns": null,
            "margin": null,
            "display": null,
            "left": null
          }
        }
      }
    }
  },
  "cells": [
    {
      "cell_type": "markdown",
      "metadata": {
        "id": "view-in-github",
        "colab_type": "text"
      },
      "source": [
        "<a href=\"https://colab.research.google.com/github/rjarun8/Pytorch/blob/main/PyTorch_Training_your_first_Convolutional_Neural_Network.ipynb\" target=\"_parent\"><img src=\"https://colab.research.google.com/assets/colab-badge.svg\" alt=\"Open In Colab\"/></a>"
      ]
    },
    {
      "cell_type": "code",
      "metadata": {
        "id": "cb162k3KnOM4"
      },
      "source": [
        "# import the necessary packages\n",
        "'''\n",
        "https://www.pyimagesearch.com/2021/07/19/pytorch-training-your-first-convolutional-neural-network-cnn/\n",
        "'''\n",
        "from torch.nn import Module\n",
        "from torch.nn import Conv2d\n",
        "from torch.nn import Linear\n",
        "from torch.nn import MaxPool2d\n",
        "from torch.nn import ReLU\n",
        "from torch.nn import LogSoftmax\n",
        "from torch import flatten"
      ],
      "execution_count": 1,
      "outputs": []
    },
    {
      "cell_type": "code",
      "metadata": {
        "id": "6StbdOlDnaew"
      },
      "source": [
        "\n",
        "class LeNet(Module):\n",
        "\tdef __init__(self, numChannels, classes):\n",
        "\t\t# call the parent constructor\n",
        "\t\tsuper(LeNet, self).__init__()\n",
        "\n",
        "\t\t# initialize first set of CONV => RELU => POOL layers\n",
        "\t\tself.conv1 = Conv2d(in_channels=numChannels, out_channels=20,\n",
        "\t\t\tkernel_size=(5, 5))\n",
        "\t\tself.relu1 = ReLU()\n",
        "\t\tself.maxpool1 = MaxPool2d(kernel_size=(2, 2), stride=(2, 2))\n",
        "\n",
        "\t\t# initialize second set of CONV => RELU => POOL layers\n",
        "\t\tself.conv2 = Conv2d(in_channels=20, out_channels=50,\n",
        "\t\t\tkernel_size=(5, 5))\n",
        "\t\tself.relu2 = ReLU()\n",
        "\t\tself.maxpool2 = MaxPool2d(kernel_size=(2, 2), stride=(2, 2))\n",
        "\n",
        "\t\t# initialize first (and only) set of FC => RELU layers\n",
        "\t\tself.fc1 = Linear(in_features=800, out_features=500)\n",
        "\t\tself.relu3 = ReLU()\n",
        "\n",
        "\t\t# initialize our softmax classifier\n",
        "\t\tself.fc2 = Linear(in_features=500, out_features=classes)\n",
        "\t\tself.logSoftmax = LogSoftmax(dim=1)\n",
        "\n",
        "\tdef forward(self, x):\n",
        "\t\t# pass the input through our first set of CONV => RELU =>\n",
        "\t\t# POOL layers\n",
        "\t\tx = self.conv1(x)\n",
        "\t\tx = self.relu1(x)\n",
        "\t\tx = self.maxpool1(x)\n",
        "\n",
        "\t\t# pass the output from the previous layer through the second\n",
        "\t\t# set of CONV => RELU => POOL layers\n",
        "\t\tx = self.conv2(x)\n",
        "\t\tx = self.relu2(x)\n",
        "\t\tx = self.maxpool2(x)\n",
        "\n",
        "\t\t# flatten the output from the previous layer and pass it\n",
        "\t\t# through our only set of FC => RELU layers\n",
        "\t\tx = flatten(x, 1)\n",
        "\t\tx = self.fc1(x)\n",
        "\t\tx = self.relu3(x)\n",
        "\n",
        "\t\t# pass the output to our softmax classifier to get our output\n",
        "\t\t# predictions\n",
        "\t\tx = self.fc2(x)\n",
        "\t\toutput = self.logSoftmax(x)\n",
        "\n",
        "\t\t# return the output predictions\n",
        "\t\treturn output"
      ],
      "execution_count": 2,
      "outputs": []
    },
    {
      "cell_type": "code",
      "metadata": {
        "id": "8JohnfrBncBp"
      },
      "source": [
        "import matplotlib\n",
        "matplotlib.use(\"Agg\")\n",
        "from sklearn.metrics import classification_report\n",
        "from torch.utils.data import random_split\n",
        "from torch.utils.data import DataLoader\n",
        "from torchvision.transforms import ToTensor\n",
        "from torchvision.datasets import KMNIST\n",
        "from torch.optim import Adam\n",
        "from torch import nn\n",
        "import matplotlib.pyplot as plt\n",
        "import numpy as np\n",
        "import argparse\n",
        "import torch\n",
        "import time"
      ],
      "execution_count": 3,
      "outputs": []
    },
    {
      "cell_type": "code",
      "metadata": {
        "id": "3mYFAmiyndlf"
      },
      "source": [
        "# define training hyperparameters\n",
        "INIT_LR = 1e-3\n",
        "BATCH_SIZE = 64\n",
        "EPOCHS = 10\n",
        "# define the train and val splits\n",
        "TRAIN_SPLIT = 0.75\n",
        "VAL_SPLIT = 1 - TRAIN_SPLIT\n",
        "# set the device we will be using to train the model\n",
        "device = torch.device(\"cuda\" if torch.cuda.is_available() else \"cpu\")"
      ],
      "execution_count": 4,
      "outputs": []
    },
    {
      "cell_type": "code",
      "metadata": {
        "colab": {
          "base_uri": "https://localhost:8080/",
          "height": 582,
          "referenced_widgets": [
            "edb2097bbc7a40fb9685b6b900d7c875",
            "5cd92f5db2854a47b97447f3928ced6b",
            "4467d5c2b8b9408a97861294a34dde95",
            "b9d672d4e79e41d5aa6bc379314b8274",
            "8b7ef9a05f52452e9d691d6b284cfb0d",
            "9ee4eef34a824277b52c40bcccdad34d",
            "266129a0339542d9af898527f09a3fba",
            "c3f6f7517d234b59b32dd44982d09f12",
            "1e551e6357d348d0933cc1e6a0ff4a81",
            "468bde7513e6498caeaf12547ac5d3d8",
            "561075062c054ba3a3c9e3eda16f3714",
            "7c5c6da253b94d10891a5bea8977e1d3",
            "00a7b171268d41e4be4919d57d0f83e4",
            "fc0998b2a24e4817afd285156153b6df",
            "a6c210e85acb431f80d2b6329fb27e2d",
            "22244c570d9647e29a35b1871a099c3e",
            "24b43064a1c544d3a146e62f6f4f633f",
            "56b99df563fc4b0ea93e832a1ec5f445",
            "33a6e31d517c4258bdb4e4611469145a",
            "f27f90e300934a48a05641e8e5f939cf",
            "eca57061cd904466885d251cbab1ee06",
            "1bef91f808ae47a8b38ca480353b0959",
            "dc48e23e6121442d9899b00c18a437e7",
            "91578053a88f4957879887b5ba1c35bb",
            "e1995e577de245f888e077e25e92773e",
            "02bed90495354f1d8426474b7bd984b0",
            "d9f758a55b7a484984c078a58b0fc799",
            "b406e2ee7e11435aacf8f6b54d578f9b",
            "ab27c1c3279e44119634d348d4c3e6ee",
            "ca94b0078005452096f9d15fce96fd77",
            "33c2b846ae88403d9f00c23650766233",
            "abc13d5bea294c03bae656180da81901"
          ]
        },
        "id": "fRQU8wJ3nfKi",
        "outputId": "605a5550-adfd-4600-893b-3d9bcb03e26c"
      },
      "source": [
        "# load the KMNIST dataset\n",
        "print(\"[INFO] loading the KMNIST dataset...\")\n",
        "\n",
        "trainData = KMNIST(root=\"data\", train=True, download=True,\n",
        "\ttransform=ToTensor())\n",
        "testData = KMNIST(root=\"data\", train=False, download=True,\n",
        "\ttransform=ToTensor())\n",
        "\n",
        "\n",
        "# calculate the train/validation split\n",
        "print(\"[INFO] generating the train/validation split...\")\n",
        "numTrainSamples = int(len(trainData) * TRAIN_SPLIT)\n",
        "numValSamples = int(len(trainData) * VAL_SPLIT)\n",
        "(trainData, valData) = random_split(trainData,\n",
        "\t[numTrainSamples, numValSamples],\n",
        "\tgenerator=torch.Generator().manual_seed(42))\n"
      ],
      "execution_count": 5,
      "outputs": [
        {
          "output_type": "stream",
          "text": [
            "[INFO] loading the KMNIST dataset...\n",
            "Downloading http://codh.rois.ac.jp/kmnist/dataset/kmnist/train-images-idx3-ubyte.gz\n",
            "Downloading http://codh.rois.ac.jp/kmnist/dataset/kmnist/train-images-idx3-ubyte.gz to data/KMNIST/raw/train-images-idx3-ubyte.gz\n"
          ],
          "name": "stdout"
        },
        {
          "output_type": "display_data",
          "data": {
            "application/vnd.jupyter.widget-view+json": {
              "model_id": "edb2097bbc7a40fb9685b6b900d7c875",
              "version_minor": 0,
              "version_major": 2
            },
            "text/plain": [
              "HBox(children=(FloatProgress(value=0.0, max=18165135.0), HTML(value='')))"
            ]
          },
          "metadata": {
            "tags": []
          }
        },
        {
          "output_type": "stream",
          "text": [
            "\n",
            "Extracting data/KMNIST/raw/train-images-idx3-ubyte.gz to data/KMNIST/raw\n",
            "\n",
            "Downloading http://codh.rois.ac.jp/kmnist/dataset/kmnist/train-labels-idx1-ubyte.gz\n",
            "Downloading http://codh.rois.ac.jp/kmnist/dataset/kmnist/train-labels-idx1-ubyte.gz to data/KMNIST/raw/train-labels-idx1-ubyte.gz\n"
          ],
          "name": "stdout"
        },
        {
          "output_type": "display_data",
          "data": {
            "application/vnd.jupyter.widget-view+json": {
              "model_id": "1e551e6357d348d0933cc1e6a0ff4a81",
              "version_minor": 0,
              "version_major": 2
            },
            "text/plain": [
              "HBox(children=(FloatProgress(value=0.0, max=29497.0), HTML(value='')))"
            ]
          },
          "metadata": {
            "tags": []
          }
        },
        {
          "output_type": "stream",
          "text": [
            "\n",
            "Extracting data/KMNIST/raw/train-labels-idx1-ubyte.gz to data/KMNIST/raw\n",
            "\n",
            "Downloading http://codh.rois.ac.jp/kmnist/dataset/kmnist/t10k-images-idx3-ubyte.gz\n",
            "Downloading http://codh.rois.ac.jp/kmnist/dataset/kmnist/t10k-images-idx3-ubyte.gz to data/KMNIST/raw/t10k-images-idx3-ubyte.gz\n"
          ],
          "name": "stdout"
        },
        {
          "output_type": "display_data",
          "data": {
            "application/vnd.jupyter.widget-view+json": {
              "model_id": "24b43064a1c544d3a146e62f6f4f633f",
              "version_minor": 0,
              "version_major": 2
            },
            "text/plain": [
              "HBox(children=(FloatProgress(value=0.0, max=3041136.0), HTML(value='')))"
            ]
          },
          "metadata": {
            "tags": []
          }
        },
        {
          "output_type": "stream",
          "text": [
            "\n",
            "Extracting data/KMNIST/raw/t10k-images-idx3-ubyte.gz to data/KMNIST/raw\n",
            "\n",
            "Downloading http://codh.rois.ac.jp/kmnist/dataset/kmnist/t10k-labels-idx1-ubyte.gz\n",
            "Downloading http://codh.rois.ac.jp/kmnist/dataset/kmnist/t10k-labels-idx1-ubyte.gz to data/KMNIST/raw/t10k-labels-idx1-ubyte.gz\n"
          ],
          "name": "stdout"
        },
        {
          "output_type": "display_data",
          "data": {
            "application/vnd.jupyter.widget-view+json": {
              "model_id": "e1995e577de245f888e077e25e92773e",
              "version_minor": 0,
              "version_major": 2
            },
            "text/plain": [
              "HBox(children=(FloatProgress(value=0.0, max=5120.0), HTML(value='')))"
            ]
          },
          "metadata": {
            "tags": []
          }
        },
        {
          "output_type": "stream",
          "text": [
            "\n",
            "Extracting data/KMNIST/raw/t10k-labels-idx1-ubyte.gz to data/KMNIST/raw\n",
            "\n",
            "[INFO] generating the train/validation split...\n"
          ],
          "name": "stdout"
        },
        {
          "output_type": "stream",
          "text": [
            "/usr/local/lib/python3.7/dist-packages/torchvision/datasets/mnist.py:498: UserWarning: The given NumPy array is not writeable, and PyTorch does not support non-writeable tensors. This means you can write to the underlying (supposedly non-writeable) NumPy array using the tensor. You may want to copy the array to protect its data or make it writeable before converting it to a tensor. This type of warning will be suppressed for the rest of this program. (Triggered internally at  /pytorch/torch/csrc/utils/tensor_numpy.cpp:180.)\n",
            "  return torch.from_numpy(parsed.astype(m[2], copy=False)).view(*s)\n"
          ],
          "name": "stderr"
        }
      ]
    },
    {
      "cell_type": "code",
      "metadata": {
        "id": "E4_6Y0x6ngpF"
      },
      "source": [
        "# initialize the train, validation, and test data loaders\n",
        "trainDataLoader = DataLoader(trainData, shuffle=True,\n",
        "\tbatch_size=BATCH_SIZE)\n",
        "valDataLoader = DataLoader(valData, batch_size=BATCH_SIZE)\n",
        "testDataLoader = DataLoader(testData, batch_size=BATCH_SIZE)\n",
        "# calculate steps per epoch for training and validation set\n",
        "trainSteps = len(trainDataLoader.dataset) // BATCH_SIZE\n",
        "valSteps = len(valDataLoader.dataset) // BATCH_SIZE"
      ],
      "execution_count": 6,
      "outputs": []
    },
    {
      "cell_type": "code",
      "metadata": {
        "colab": {
          "base_uri": "https://localhost:8080/"
        },
        "id": "l4A8jr75niYJ",
        "outputId": "685f6267-aa77-4971-9a6a-6282db9af985"
      },
      "source": [
        "print(\"[INFO] initializing the LeNet model...\")\n",
        "model = LeNet(\n",
        "\tnumChannels=1,\n",
        "\tclasses=len(trainData.dataset.classes)).to(device)"
      ],
      "execution_count": 7,
      "outputs": [
        {
          "output_type": "stream",
          "text": [
            "[INFO] initializing the LeNet model...\n"
          ],
          "name": "stdout"
        }
      ]
    },
    {
      "cell_type": "code",
      "metadata": {
        "colab": {
          "base_uri": "https://localhost:8080/"
        },
        "id": "Ir1XhroZnkcI",
        "outputId": "a55dcc89-8589-4d90-c827-71203d602bac"
      },
      "source": [
        "# initialize our optimizer and loss functio\n",
        "\n",
        "lossFn = nn.NLLLoss()\n",
        "opt = Adam(model.parameters(),lr=INIT_LR)\n",
        "\n",
        "# initialize a dictionary to store training history\n",
        "H = {\n",
        "\t\"train_loss\": [],\n",
        "\t\"train_acc\": [],\n",
        "\t\"val_loss\": [],\n",
        "\t\"val_acc\": []\n",
        "}\n",
        "# measure how long training is going to take\n",
        "print(\"[INFO] training the network...\")\n",
        "startTime = time.time()"
      ],
      "execution_count": 8,
      "outputs": [
        {
          "output_type": "stream",
          "text": [
            "[INFO] training the network...\n"
          ],
          "name": "stdout"
        }
      ]
    },
    {
      "cell_type": "code",
      "metadata": {
        "colab": {
          "base_uri": "https://localhost:8080/"
        },
        "id": "C4hjCwzvnlvG",
        "outputId": "4088a0d2-e29c-4ae7-c852-19a08ccf5fc3"
      },
      "source": [
        "# loop over our epochs\n",
        "\n",
        "\n",
        "print(model)\n",
        "for e in range(0, EPOCHS):\n",
        "\t# set the model in training mode\n",
        "\tmodel.train()\n",
        "\t# initialize the total training and validation loss\n",
        "\ttotalTrainLoss = 0\n",
        "\ttotalValLoss = 0\n",
        "\t# initialize the number of correct predictions in the training\n",
        "\t# and validation step\n",
        "\ttrainCorrect = 0\n",
        "\tvalCorrect = 0\n",
        "\t# loop over the training set\n",
        "\tfor (x, y) in trainDataLoader:\n",
        "\t\t# send the input to the device\n",
        "\t\t(x, y) = (x.to(device), y.to(device))\n",
        "\t\t# perform a forward pass and calculate the training loss\n",
        "\t\tpred = model(x)\n",
        "\t\tloss = lossFn(pred, y)\n",
        "\t\t# zero out the gradients, perform the backpropagation step,\n",
        "\t\t# and update the weights\n",
        "\t\topt.zero_grad()\n",
        "\t\tloss.backward()\n",
        "\t\topt.step()\n",
        "\t\t# add the loss to the total training loss so far and\n",
        "\t\t# calculate the number of correct predictions\n",
        "\t\ttotalTrainLoss += loss\n",
        "\t\ttrainCorrect += (pred.argmax(1) == y).type(\n",
        "\t\t\ttorch.float).sum().item()"
      ],
      "execution_count": 9,
      "outputs": [
        {
          "output_type": "stream",
          "text": [
            "LeNet(\n",
            "  (conv1): Conv2d(1, 20, kernel_size=(5, 5), stride=(1, 1))\n",
            "  (relu1): ReLU()\n",
            "  (maxpool1): MaxPool2d(kernel_size=(2, 2), stride=(2, 2), padding=0, dilation=1, ceil_mode=False)\n",
            "  (conv2): Conv2d(20, 50, kernel_size=(5, 5), stride=(1, 1))\n",
            "  (relu2): ReLU()\n",
            "  (maxpool2): MaxPool2d(kernel_size=(2, 2), stride=(2, 2), padding=0, dilation=1, ceil_mode=False)\n",
            "  (fc1): Linear(in_features=800, out_features=500, bias=True)\n",
            "  (relu3): ReLU()\n",
            "  (fc2): Linear(in_features=500, out_features=10, bias=True)\n",
            "  (logSoftmax): LogSoftmax(dim=1)\n",
            ")\n"
          ],
          "name": "stdout"
        },
        {
          "output_type": "stream",
          "text": [
            "/usr/local/lib/python3.7/dist-packages/torch/nn/functional.py:718: UserWarning: Named tensors and all their associated APIs are an experimental feature and subject to change. Please do not use them for anything important until they are released as stable. (Triggered internally at  /pytorch/c10/core/TensorImpl.h:1156.)\n",
            "  return torch.max_pool2d(input, kernel_size, stride, padding, dilation, ceil_mode)\n"
          ],
          "name": "stderr"
        }
      ]
    },
    {
      "cell_type": "code",
      "metadata": {
        "id": "XTlrddxTnnkp"
      },
      "source": [
        "\t# switch off autograd for evaluation\n",
        "\twith torch.no_grad():\n",
        "\t\t# set the model in evaluation mode\n",
        "\t\tmodel.eval()\n",
        "\t\t# loop over the validation set\n",
        "\t\tfor (x, y) in valDataLoader:\n",
        "\t\t\t# send the input to the device\n",
        "\t\t\t(x, y) = (x.to(device), y.to(device))\n",
        "\t\t\t# make the predictions and calculate the validation loss\n",
        "\t\t\tpred = model(x)\n",
        "\t\t\ttotalValLoss += lossFn(pred, y)\n",
        "\t\t\t# calculate the number of correct predictions\n",
        "\t\t\tvalCorrect += (pred.argmax(1) == y).type(\n",
        "\t\t\t\ttorch.float).sum().item()"
      ],
      "execution_count": 10,
      "outputs": []
    },
    {
      "cell_type": "code",
      "metadata": {
        "colab": {
          "base_uri": "https://localhost:8080/"
        },
        "id": "usJJkQdpnpk8",
        "outputId": "220183dd-3582-4153-a9b0-f3f9344d336e"
      },
      "source": [
        "\t# calculate the average training and validation loss\n",
        "\tavgTrainLoss = totalTrainLoss / trainSteps\n",
        "\tavgValLoss = totalValLoss / valSteps\n",
        "\t# calculate the training and validation accuracy\n",
        "\ttrainCorrect = trainCorrect / len(trainDataLoader.dataset)\n",
        "\tvalCorrect = valCorrect / len(valDataLoader.dataset)\n",
        "\t# update our training history\n",
        "\tH[\"train_loss\"].append(avgTrainLoss.cpu().detach().numpy())\n",
        "\tH[\"train_acc\"].append(trainCorrect)\n",
        "\tH[\"val_loss\"].append(avgValLoss.cpu().detach().numpy())\n",
        "\tH[\"val_acc\"].append(valCorrect)\n",
        "\t# print the model training and validation information\n",
        "\tprint(\"[INFO] EPOCH: {}/{}\".format(e + 1, EPOCHS))\n",
        "\tprint(\"Train loss: {:.6f}, Train accuracy: {:.4f}\".format(\n",
        "\t\tavgTrainLoss, trainCorrect))\n",
        "\tprint(\"Val loss: {:.6f}, Val accuracy: {:.4f}\\n\".format(\n",
        "\t\tavgValLoss, valCorrect))"
      ],
      "execution_count": 11,
      "outputs": [
        {
          "output_type": "stream",
          "text": [
            "[INFO] EPOCH: 10/10\n",
            "Train loss: 0.010835, Train accuracy: 0.9962\n",
            "Val loss: 0.081191, Val accuracy: 0.9821\n",
            "\n"
          ],
          "name": "stdout"
        }
      ]
    },
    {
      "cell_type": "code",
      "metadata": {
        "colab": {
          "base_uri": "https://localhost:8080/"
        },
        "id": "jA3skGAYnrHv",
        "outputId": "3a8325cb-4899-4f42-e88f-90a330b8bc58"
      },
      "source": [
        "# finish measuring how long training took\n",
        "endTime = time.time()\n",
        "print(\"[INFO] total time taken to train the model: {:.2f}s\".format(\n",
        "\tendTime - startTime))\n",
        "# we can now evaluate the network on the test set\n",
        "print(\"[INFO] evaluating network...\")\n",
        "# turn off autograd for testing evaluation\n",
        "with torch.no_grad():\n",
        "\t# set the model in evaluation mode\n",
        "\tmodel.eval()\n",
        "\t\n",
        "\t# initialize a list to store our predictions\n",
        "\tpreds = []\n",
        "\t# loop over the test set\n",
        "\tfor (x, y) in testDataLoader:\n",
        "\t\t# send the input to the device\n",
        "\t\tx = x.to(device)\n",
        "\t\t# make the predictions and add them to the list\n",
        "\t\tpred = model(x)\n",
        "\t\tpreds.extend(pred.argmax(axis=1).cpu().numpy())\n",
        "# generate a classification report\n",
        "print(classification_report(testData.targets.cpu().numpy(),\n",
        "\tnp.array(preds), target_names=testData.classes))"
      ],
      "execution_count": 12,
      "outputs": [
        {
          "output_type": "stream",
          "text": [
            "[INFO] total time taken to train the model: 94.75s\n",
            "[INFO] evaluating network...\n",
            "              precision    recall  f1-score   support\n",
            "\n",
            "           o       0.98      0.94      0.96      1000\n",
            "          ki       0.96      0.89      0.92      1000\n",
            "          su       0.92      0.94      0.93      1000\n",
            "         tsu       0.97      0.97      0.97      1000\n",
            "          na       0.93      0.94      0.93      1000\n",
            "          ha       0.96      0.94      0.95      1000\n",
            "          ma       0.89      0.98      0.93      1000\n",
            "          ya       0.98      0.96      0.97      1000\n",
            "          re       0.93      0.98      0.95      1000\n",
            "          wo       0.97      0.95      0.96      1000\n",
            "\n",
            "    accuracy                           0.95     10000\n",
            "   macro avg       0.95      0.95      0.95     10000\n",
            "weighted avg       0.95      0.95      0.95     10000\n",
            "\n"
          ],
          "name": "stdout"
        }
      ]
    },
    {
      "cell_type": "code",
      "metadata": {
        "id": "NjX2w1pwns5M"
      },
      "source": [
        "# plot the training loss and accuracy\n",
        "plt.style.use(\"ggplot\")\n",
        "plt.figure()\n",
        "plt.plot(H[\"train_loss\"], label=\"train_loss\")\n",
        "plt.plot(H[\"val_loss\"], label=\"val_loss\")\n",
        "plt.plot(H[\"train_acc\"], label=\"train_acc\")\n",
        "plt.plot(H[\"val_acc\"], label=\"val_acc\")\n",
        "plt.title(\"Training Loss and Accuracy on Dataset\")\n",
        "plt.xlabel(\"Epoch #\")\n",
        "plt.ylabel(\"Loss/Accuracy\")\n",
        "plt.legend(loc=\"lower left\")\n",
        "plt.savefig('plot.png')\n",
        "# serialize the model to disk\n",
        "torch.save(model,'cnn_torch.pth')"
      ],
      "execution_count": 13,
      "outputs": []
    },
    {
      "cell_type": "code",
      "metadata": {
        "id": "jmgIU3l2nuxA"
      },
      "source": [
        "# set the numpy seed for better reproducibility\n",
        "import numpy as np\n",
        "np.random.seed(42)\n",
        "# import the necessary packages\n",
        "from torch.utils.data import DataLoader\n",
        "from torch.utils.data import Subset\n",
        "from torchvision.transforms import ToTensor\n",
        "from torchvision.datasets import KMNIST\n",
        "import argparse\n",
        "import imutils\n",
        "import torch\n",
        "import cv2"
      ],
      "execution_count": 14,
      "outputs": []
    },
    {
      "cell_type": "code",
      "metadata": {
        "colab": {
          "base_uri": "https://localhost:8080/"
        },
        "id": "nUpHvWGYnwOY",
        "outputId": "5450f42a-9eda-477b-8714-a2842ec53b86"
      },
      "source": [
        "# set the device we will be using to test the model\n",
        "device = torch.device(\"cuda\" if torch.cuda.is_available() else \"cpu\")\n",
        "# load the KMNIST dataset and randomly grab 10 data points\n",
        "print(\"[INFO] loading the KMNIST test dataset...\")\n",
        "testData = KMNIST(root=\"data\", train=False, download=True,\n",
        "\ttransform=ToTensor())\n",
        "idxs = np.random.choice(range(0, len(testData)), size=(10,))\n",
        "testData = Subset(testData, idxs)\n",
        "# initialize the test data loader\n",
        "testDataLoader = DataLoader(testData, batch_size=1)\n",
        "# load the model and set it to evaluation mode\n",
        "model = torch.load(r'/content/cnn_torch.pth').to(device)\n",
        "model.eval()"
      ],
      "execution_count": 15,
      "outputs": [
        {
          "output_type": "stream",
          "text": [
            "[INFO] loading the KMNIST test dataset...\n"
          ],
          "name": "stdout"
        },
        {
          "output_type": "execute_result",
          "data": {
            "text/plain": [
              "LeNet(\n",
              "  (conv1): Conv2d(1, 20, kernel_size=(5, 5), stride=(1, 1))\n",
              "  (relu1): ReLU()\n",
              "  (maxpool1): MaxPool2d(kernel_size=(2, 2), stride=(2, 2), padding=0, dilation=1, ceil_mode=False)\n",
              "  (conv2): Conv2d(20, 50, kernel_size=(5, 5), stride=(1, 1))\n",
              "  (relu2): ReLU()\n",
              "  (maxpool2): MaxPool2d(kernel_size=(2, 2), stride=(2, 2), padding=0, dilation=1, ceil_mode=False)\n",
              "  (fc1): Linear(in_features=800, out_features=500, bias=True)\n",
              "  (relu3): ReLU()\n",
              "  (fc2): Linear(in_features=500, out_features=10, bias=True)\n",
              "  (logSoftmax): LogSoftmax(dim=1)\n",
              ")"
            ]
          },
          "metadata": {
            "tags": []
          },
          "execution_count": 15
        }
      ]
    },
    {
      "cell_type": "code",
      "metadata": {
        "colab": {
          "base_uri": "https://localhost:8080/",
          "height": 1000
        },
        "id": "O8K37HaenxpW",
        "outputId": "095c47e0-e338-48ed-9497-e457e68068b4"
      },
      "source": [
        "# switch off autograd\n",
        "\n",
        "from google.colab.patches import cv2_imshow # to avoid colab crash\n",
        "with torch.no_grad():\n",
        "\t# loop over the test set\n",
        "\tfor (image, label) in testDataLoader:\n",
        "\t\t# grab the original image and ground truth label\n",
        "\t\torigImage = image.numpy().squeeze(axis=(0, 1))\n",
        "\t\tgtLabel = testData.dataset.classes[label.numpy()[0]]\n",
        "\n",
        "\t\t# send the input to the device and make predictions on it\n",
        "\t\timage = image.to(device)\n",
        "\t\tpred = model(image)\n",
        "\n",
        "\t\t# find the class label index with the largest corresponding\n",
        "\t\t# probability\n",
        "\t\tidx = pred.argmax(axis=1).cpu().numpy()[0]\n",
        "\t\tpredLabel = testData.dataset.classes[idx]\n",
        "\n",
        "\t\t# convert the image from grayscale to RGB (so we can draw on\n",
        "\t\t# it) and resize it (so we can more easily see it on our\n",
        "\t\t# screen)\n",
        "\t\torigImage = np.dstack([origImage] * 3)\n",
        "\t\torigImage = imutils.resize(origImage, width=128)\n",
        "\n",
        "\t\t# draw the predicted class label on it\n",
        "\t\tcolor = (0, 255, 0) if gtLabel == predLabel else (0, 0, 255)\n",
        "\t\tcv2.putText(origImage, gtLabel, (2, 25),\n",
        "\t\t\tcv2.FONT_HERSHEY_SIMPLEX, 0.95, color, 2)\n",
        "\n",
        "\t\t# display the result in terminal and show the input image\n",
        "\t\tprint(\"[INFO] ground truth label: {}, predicted label: {}\".format(\n",
        "\t\t\tgtLabel, predLabel))\n",
        "\t\tcv2_imshow( origImage)\n",
        "\t\tcv2.waitKey(0)"
      ],
      "execution_count": 16,
      "outputs": [
        {
          "output_type": "stream",
          "text": [
            "[INFO] ground truth label: ki, predicted label: ki\n"
          ],
          "name": "stdout"
        },
        {
          "output_type": "display_data",
          "data": {
            "image/png": "[encoded data removed]",
            "text/plain": [
              "<PIL.Image.Image image mode=RGB size=128x128 at 0x7FF8018436D0>"
            ]
          },
          "metadata": {
            "tags": []
          }
        },
        {
          "output_type": "stream",
          "text": [
            "[INFO] ground truth label: ki, predicted label: ki\n"
          ],
          "name": "stdout"
        },
        {
          "output_type": "display_data",
          "data": {
            "image/png": "[encoded data removed]",
            "text/plain": [
              "<PIL.Image.Image image mode=RGB size=128x128 at 0x7FF8017AB3D0>"
            ]
          },
          "metadata": {
            "tags": []
          }
        },
        {
          "output_type": "stream",
          "text": [
            "[INFO] ground truth label: ki, predicted label: ki\n"
          ],
          "name": "stdout"
        },
        {
          "output_type": "display_data",
          "data": {
            "image/png": "[encoded data removed]",
            "text/plain": [
              "<PIL.Image.Image image mode=RGB size=128x128 at 0x7FF8017B06D0>"
            ]
          },
          "metadata": {
            "tags": []
          }
        },
        {
          "output_type": "stream",
          "text": [
            "[INFO] ground truth label: ha, predicted label: ha\n"
          ],
          "name": "stdout"
        },
        {
          "output_type": "display_data",
          "data": {
            "image/png": "[encoded data removed]",
            "text/plain": [
              "<PIL.Image.Image image mode=RGB size=128x128 at 0x7FF8017B0850>"
            ]
          },
          "metadata": {
            "tags": []
          }
        },
        {
          "output_type": "stream",
          "text": [
            "[INFO] ground truth label: tsu, predicted label: tsu\n"
          ],
          "name": "stdout"
        },
        {
          "output_type": "display_data",
          "data": {
            "image/png": "[encoded data removed]",
            "text/plain": [
              "<PIL.Image.Image image mode=RGB size=128x128 at 0x7FF8017B0810>"
            ]
          },
          "metadata": {
            "tags": []
          }
        },
        {
          "output_type": "stream",
          "text": [
            "[INFO] ground truth label: ya, predicted label: ya\n"
          ],
          "name": "stdout"
        },
        {
          "output_type": "display_data",
          "data": {
            "image/png": "[encoded data removed]",
            "text/plain": [
              "<PIL.Image.Image image mode=RGB size=128x128 at 0x7FF8017B0AD0>"
            ]
          },
          "metadata": {
            "tags": []
          }
        },
        {
          "output_type": "stream",
          "text": [
            "[INFO] ground truth label: tsu, predicted label: tsu\n"
          ],
          "name": "stdout"
        },
        {
          "output_type": "display_data",
          "data": {
            "image/png": "[encoded data removed]",
            "text/plain": [
              "<PIL.Image.Image image mode=RGB size=128x128 at 0x7FF8017B0990>"
            ]
          },
          "metadata": {
            "tags": []
          }
        },
        {
          "output_type": "stream",
          "text": [
            "[INFO] ground truth label: na, predicted label: na\n"
          ],
          "name": "stdout"
        },
        {
          "output_type": "display_data",
          "data": {
            "image/png": "[encoded data removed]",
            "text/plain": [
              "<PIL.Image.Image image mode=RGB size=128x128 at 0x7FF8017B0650>"
            ]
          },
          "metadata": {
            "tags": []
          }
        },
        {
          "output_type": "stream",
          "text": [
            "[INFO] ground truth label: ki, predicted label: ki\n"
          ],
          "name": "stdout"
        },
        {
          "output_type": "display_data",
          "data": {
            "image/png": "[encoded data removed]",
            "text/plain": [
              "<PIL.Image.Image image mode=RGB size=128x128 at 0x7FF8017B0950>"
            ]
          },
          "metadata": {
            "tags": []
          }
        },
        {
          "output_type": "stream",
          "text": [
            "[INFO] ground truth label: tsu, predicted label: tsu\n"
          ],
          "name": "stdout"
        },
        {
          "output_type": "display_data",
          "data": {
            "image/png": "[encoded data removed]",
            "text/plain": [
              "<PIL.Image.Image image mode=RGB size=128x128 at 0x7FF8017B0A50>"
            ]
          },
          "metadata": {
            "tags": []
          }
        }
      ]
    },
    {
      "cell_type": "code",
      "metadata": {
        "id": "49nlgnAanzP4"
      },
      "source": [
        ""
      ],
      "execution_count": null,
      "outputs": []
    }
  ]
}